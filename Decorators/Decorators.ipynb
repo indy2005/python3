{
 "cells": [
  {
   "cell_type": "markdown",
   "metadata": {},
   "source": [
    "# Decorators\n",
    "https://wiki.python.org/moin/PythonDecoratorLibrary\n",
    "\n",
    "https://realpython.com/primer-on-python-decorators/#further-reading"
   ]
  },
  {
   "cell_type": "markdown",
   "metadata": {},
   "source": [
    "## Simple example of what a decorator does"
   ]
  },
  {
   "cell_type": "markdown",
   "metadata": {},
   "source": [
    "### Functions are first class objects - what does this mean?"
   ]
  },
  {
   "cell_type": "code",
   "execution_count": 10,
   "metadata": {},
   "outputs": [
    {
     "name": "stdout",
     "output_type": "stream",
     "text": [
      "Logging something\n"
     ]
    }
   ],
   "source": [
    "# functions in python are first class objects, and so can be passed as arguments and returned from functions\n",
    "def log_output():\n",
    "    print(\"Logging something\")\n",
    "    \n",
    "\n",
    "# this is assigning a function to a variable, not executing the function and storing the result\n",
    "log = log_output\n",
    "\n",
    "# this executest the function\n",
    "log()"
   ]
  },
  {
   "cell_type": "code",
   "execution_count": 11,
   "metadata": {},
   "outputs": [
    {
     "name": "stdout",
     "output_type": "stream",
     "text": [
      "Before...\n",
      "Logging something\n",
      "After...\n"
     ]
    }
   ],
   "source": [
    "# we can pass the function as a parameter to another function\n",
    "\n",
    "def log_something(func):\n",
    "    print(\"Before...\")\n",
    "    func() # invoke the function passed in as an argument\n",
    "    print(\"After...\")\n",
    "\n",
    "# log is a function here\n",
    "log_something(log)  "
   ]
  },
  {
   "cell_type": "markdown",
   "metadata": {},
   "source": [
    "### Functions can be defined within functions, and returned - these are known as closures"
   ]
  },
  {
   "cell_type": "code",
   "execution_count": null,
   "metadata": {},
   "outputs": [],
   "source": [
    "# we can now return a function from a function, this is called a closure\n",
    "\n",
    "def make_case(case_type):\n",
    "    \n",
    "    def upper(value):\n",
    "        return value.upper()\n",
    "\n",
    "    def lower(value):\n",
    "        return value.lower()\n",
    "    \n",
    "\n",
    "    if case_type == 'u':\n",
    "        return upper\n",
    "    else:\n",
    "        return lower"
   ]
  },
  {
   "cell_type": "code",
   "execution_count": 33,
   "metadata": {},
   "outputs": [
    {
     "name": "stdout",
     "output_type": "stream",
     "text": [
      "HELLO\n",
      "hello\n"
     ]
    }
   ],
   "source": [
    "# If we pass 'u' as the case_type parameter, the upper() closure is returned, otherwise the lower() closure is returned\n",
    "func = make_case('u')\n",
    "print(func('Hello'))\n",
    "\n",
    "func = make_case('l')\n",
    "print(func('Hello'))"
   ]
  },
  {
   "cell_type": "code",
   "execution_count": 34,
   "metadata": {},
   "outputs": [
    {
     "data": {
      "text/plain": [
       "'HELLO THERE, HOW ARE YOU?'"
      ]
     },
     "execution_count": 34,
     "metadata": {},
     "output_type": "execute_result"
    }
   ],
   "source": [
    "# Now if we take this one step further and pass in a function, and return a closure which executes the function\n",
    "# We can change the way the function passed in as an argument operates\n",
    "\n",
    "def make_upper(func):\n",
    "    \n",
    "    def wrapper():\n",
    "        # execute the function passed in as an argument\n",
    "        result = func()\n",
    "        \n",
    "        # convert to upper case and return the result\n",
    "        modified_result =  result.upper()\n",
    "        return modified_result\n",
    "    \n",
    "    # return the modified function\n",
    "    return wrapper\n",
    "\n",
    "\n",
    "# this is a base function we want to modify\n",
    "def greet():\n",
    "    return \"Hello there, how are you?\"\n",
    "\n",
    "\n",
    "greet()\n",
    "\n",
    "# here we create modify the behaviour of greet() to force to upper case\n",
    "greet = make_upper(greet)\n",
    "\n",
    "# eecuting the function now, is exeuting the wrapper function around the original greet function\n",
    "greet()\n"
   ]
  },
  {
   "cell_type": "markdown",
   "metadata": {},
   "source": [
    "## Decorator Syntax"
   ]
  },
  {
   "cell_type": "code",
   "execution_count": 35,
   "metadata": {},
   "outputs": [
    {
     "data": {
      "text/plain": [
       "'GOODNIGHT EVERYONE'"
      ]
     },
     "execution_count": 35,
     "metadata": {},
     "output_type": "execute_result"
    }
   ],
   "source": [
    "# now we understand how a function can effetively return a function (a closure()), and we can pass in functions\n",
    "# ...and therefore wrap behaviour around a function to alter its behaviour...we can introduce the decorator syntax\n",
    "\n",
    "# the syntax demonstrated above, can be simplified using the @ decorator syntax\n",
    "# this example is effectively exactly the same as: say_goodnight =  make_upper(say_goodnight)\n",
    "@make_upper\n",
    "def say_goodnight():\n",
    "    return \"Goodnight everyone\"\n",
    "\n",
    "say_goodnight()"
   ]
  },
  {
   "cell_type": "code",
   "execution_count": 37,
   "metadata": {},
   "outputs": [
    {
     "data": {
      "text/plain": [
       "'SOMETHING!!'"
      ]
     },
     "execution_count": 37,
     "metadata": {},
     "output_type": "execute_result"
    }
   ],
   "source": [
    "# we can now add @make_upper to any function which returns a string value, to alter its behaviour \n",
    "@make_upper\n",
    "def say_something():\n",
    "    return \"Something!!\"\n",
    "\n",
    "say_something()"
   ]
  },
  {
   "cell_type": "markdown",
   "metadata": {},
   "source": [
    "### Applying multiple decorators"
   ]
  },
  {
   "cell_type": "code",
   "execution_count": 40,
   "metadata": {},
   "outputs": [
    {
     "data": {
      "text/plain": [
       "'!ereht olle'"
      ]
     },
     "execution_count": 40,
     "metadata": {},
     "output_type": "execute_result"
    }
   ],
   "source": [
    "# multiple decorators can be applied to a function\n",
    "\n",
    "# reverse a string\n",
    "def reverse(func):\n",
    "    \n",
    "    def wrapper():\n",
    "        result = func()\n",
    "        result = result[::-1]\n",
    "        return result\n",
    "    \n",
    "    return wrapper\n",
    "\n",
    "# remove first character of a string\n",
    "def remove_first(func):\n",
    "    def wrapper():\n",
    "        result = func()\n",
    "        result = result[1:]\n",
    "        return result\n",
    "    \n",
    "    return wrapper\n",
    "\n",
    "\n",
    "# here we add multiple decorators, note how they are executed \"upwards\"\n",
    "# i.e. the first character is removed and then the string is reversed\n",
    "# this is the same as the syntax : process_string = reverse(remove_first(process_string))\n",
    "@reverse\n",
    "@remove_first\n",
    "def process_string():\n",
    "    return \"Hello there!\"\n",
    "\n",
    "process_string()"
   ]
  },
  {
   "cell_type": "code",
   "execution_count": 41,
   "metadata": {},
   "outputs": [
    {
     "data": {
      "text/plain": [
       "'ereht olleH'"
      ]
     },
     "execution_count": 41,
     "metadata": {},
     "output_type": "execute_result"
    }
   ],
   "source": [
    "# here we add multiple decorators, note how they are executed \"upwards\"\n",
    "# i.e. the string is reversed and THEN the first character is removed\n",
    "# this is the same as the syntax : process_string = remove_first(reverse(process_string))\n",
    "@remove_first\n",
    "@reverse\n",
    "def process_string():\n",
    "    return \"Hello there!\"\n",
    "\n",
    "process_string()"
   ]
  },
  {
   "cell_type": "code",
   "execution_count": 43,
   "metadata": {},
   "outputs": [
    {
     "data": {
      "text/plain": [
       "'ello there!'"
      ]
     },
     "execution_count": 43,
     "metadata": {},
     "output_type": "execute_result"
    }
   ],
   "source": [
    "# And of course we apply one, both or neither of the decorators\n",
    "@remove_first\n",
    "def process_string():\n",
    "    return \"Hello there!\"\n",
    "\n",
    "process_string()"
   ]
  },
  {
   "cell_type": "markdown",
   "metadata": {},
   "source": [
    "## Decorating a function with arguments"
   ]
  },
  {
   "cell_type": "code",
   "execution_count": 45,
   "metadata": {},
   "outputs": [],
   "source": [
    "# the examples so far have not had to deal with decorating functions with arguments\n",
    "\n",
    "def reverse(func):\n",
    "    Decorators\n",
    "    def wrapper():\n",
    "        result = func()\n",
    "        result = result[::-1]\n",
    "        return result\n",
    "    \n",
    "    return wrapper\n",
    "\n",
    "\n",
    "@reverse\n",
    "def process_string(string_to_process):\n",
    "    return string_to_process.upper();"
   ]
  },
  {
   "cell_type": "code",
   "execution_count": 47,
   "metadata": {},
   "outputs": [
    {
     "name": "stdout",
     "output_type": "stream",
     "text": [
      "Error:  wrapper() takes 0 positional arguments but 1 was given\n"
     ]
    }
   ],
   "source": [
    "# this wont work\n",
    "try:\n",
    "    process_string('Hello')\n",
    "except Exception as e:\n",
    "    print(\"Error: \", e)"
   ]
  },
  {
   "cell_type": "code",
   "execution_count": 51,
   "metadata": {},
   "outputs": [
    {
     "name": "stdout",
     "output_type": "stream",
     "text": [
      "OLLEH\n",
      "OLLEH\n"
     ]
    }
   ],
   "source": [
    "# we solve this with *args and **kwargs\n",
    "def reverse(func):\n",
    "    \n",
    "    def wrapper(*args, **kwargs):\n",
    "        result = func(*args, **kwargs)\n",
    "        result = result[::-1]\n",
    "        return result\n",
    "    \n",
    "    return wrapper\n",
    "\n",
    "@reverse\n",
    "def process_string(string_to_process):\n",
    "    return string_to_process.upper();\n",
    "\n",
    "print(process_string('Hello'))\n",
    "print(process_string(string_to_process = 'Hello'))"
   ]
  },
  {
   "cell_type": "markdown",
   "metadata": {},
   "source": [
    "## Trace example    "
   ]
  },
  {
   "cell_type": "code",
   "execution_count": 64,
   "metadata": {},
   "outputs": [
    {
     "name": "stdout",
     "output_type": "stream",
     "text": [
      "TRACE: calling program_to_trace() with args ('I like you',), {}\n",
      "TRACE: program_to_trace() returned 'UOY EKIL I'\n",
      "TRACE: calling program_to_trace() with args ('What is your name?',), {}\n",
      "TRACE: program_to_trace() returned '?EMAN RUOY SI TAHW'\n",
      "TRACE: calling another_program_to_trace() with args (), {'value': 'I like you'}\n",
      "TRACE: another_program_to_trace() returned 'uoy ekil i'\n",
      "TRACE: calling another_program_to_trace() with args (), {'value': 'What is your name?'}\n",
      "TRACE: another_program_to_trace() returned '?eman ruoy si tahw'\n"
     ]
    },
    {
     "data": {
      "text/plain": [
       "'?eman ruoy si tahw'"
      ]
     },
     "execution_count": 64,
     "metadata": {},
     "output_type": "execute_result"
    }
   ],
   "source": [
    "# this example allows us to trace each function call by printing out the function name being called, \n",
    "# any arguments and the return value\n",
    "def trace(func):\n",
    "\n",
    "    def wrapper(*args, **kwargs):\n",
    "        print(f\"TRACE: calling {func.__name__}() \" \n",
    "              f\"with args {args}, {kwargs}\")\n",
    "        original_result = func(*args, **kwargs)\n",
    "        print(f\"TRACE: {func.__name__}() \" \n",
    "              f\"returned {original_result!r}\")\n",
    "        return original_result\n",
    "    \n",
    "    return wrapper\n",
    "\n",
    "\n",
    "@trace\n",
    "def program_to_trace(value):\n",
    "    return value[::-1].upper()\n",
    "\n",
    "# all the arguments are positional and not keyword arguments\n",
    "program_to_trace(\"I like you\")\n",
    "program_to_trace(\"What is your name?\")\n",
    "\n",
    "@trace\n",
    "def another_program_to_trace(value):\n",
    "    return value[::-1].lower()\n",
    "\n",
    "# note how the trace picks up the keyword arguments this time\n",
    "another_program_to_trace(value=\"I like you\")\n",
    "another_program_to_trace(value=\"What is your name?\")"
   ]
  },
  {
   "cell_type": "markdown",
   "metadata": {},
   "source": [
    "## Preserving function metadata when decorating"
   ]
  },
  {
   "cell_type": "code",
   "execution_count": 10,
   "metadata": {},
   "outputs": [
    {
     "name": "stdout",
     "output_type": "stream",
     "text": [
      "process_string \n",
      "    Process a string in a particular way\n",
      "    \n",
      "wrapper\n",
      "None\n"
     ]
    }
   ],
   "source": [
    "# When we ue a decorator, we lost the metadata of the original funtion such as the function name and the docstring\n",
    "from functools import wraps\n",
    "\n",
    "def reverse(func):\n",
    "   \n",
    "    def wrapper(*args, **kwargs):\n",
    "        \n",
    "        print(func.__name__, func.__doc__)\n",
    "        \n",
    "        result = func(*args, **kwargs)\n",
    "        result = result[::-1]\n",
    "        return result\n",
    "    \n",
    "    return wrapper\n",
    "\n",
    "@reverse\n",
    "def process_string(string_to_process):\n",
    "    '''\n",
    "    Process a string in a particular way\n",
    "    '''\n",
    "    return string_to_process.upper();\n",
    "\n",
    "process_string(\"Apple\")\n",
    "\n",
    "# here we can see that the name of the function is now 'wrapper' and the docstring is empty\n",
    "print(process_string.__name__)\n",
    "print(process_string.__doc__)"
   ]
  },
  {
   "cell_type": "code",
   "execution_count": 11,
   "metadata": {},
   "outputs": [
    {
     "name": "stdout",
     "output_type": "stream",
     "text": [
      "process_string \n",
      "    Process a string in a particular way\n",
      "    \n",
      "process_string\n",
      "\n",
      "    Process a string in a particular way\n",
      "    \n"
     ]
    }
   ],
   "source": [
    "# We can retain the metadata of the function being decorated using functools.wraps\n",
    "from functools import wraps\n",
    "\n",
    "def reverse(func):\n",
    "    @wraps(func)\n",
    "    def wrapper(*args, **kwargs):\n",
    "        \n",
    "        print(func.__name__, func.__doc__)\n",
    "        \n",
    "        result = func(*args, **kwargs)\n",
    "        result = result[::-1]\n",
    "        return result\n",
    "    \n",
    "    return wrapper\n",
    "\n",
    "@reverse\n",
    "def process_string(string_to_process):\n",
    "    '''\n",
    "    Process a string in a particular way\n",
    "    '''\n",
    "    return string_to_process.upper();\n",
    "\n",
    "process_string(\"Apple\")\n",
    "\n",
    "# here we can see that the name of the function and docstring is retained\n",
    "print(process_string.__name__)\n",
    "print(process_string.__doc__)"
   ]
  },
  {
   "cell_type": "markdown",
   "metadata": {},
   "source": [
    "### Unwrapping a decorator"
   ]
  },
  {
   "cell_type": "code",
   "execution_count": 17,
   "metadata": {},
   "outputs": [
    {
     "name": "stdout",
     "output_type": "stream",
     "text": [
      "ELPPA\n",
      "APPLE\n"
     ]
    }
   ],
   "source": [
    "# Once we decorate a function, as long as we have used @wraps from functools, we can unwrap\n",
    "# by accessing the __wrapped__ property\n",
    "\n",
    "from functools import wraps\n",
    "\n",
    "def reverse(func):\n",
    "    @wraps(func)\n",
    "    def wrapper(*args, **kwargs):\n",
    "       \n",
    "        result = func(*args, **kwargs)\n",
    "        result = result[::-1]\n",
    "        return result\n",
    "    \n",
    "    return wrapper\n",
    "\n",
    "@reverse\n",
    "def process_string(string_to_process):\n",
    "    '''\n",
    "    Process a string in a particular way\n",
    "    '''\n",
    "    return string_to_process.upper();\n",
    "\n",
    "print(process_string(\"Apple\"))\n",
    "\n",
    "# here was can acess the unwrapped function if we need to\n",
    "unwrapped = process_string.__wrapped__\n",
    "print(unwrapped(\"Apple\"))"
   ]
  },
  {
   "cell_type": "markdown",
   "metadata": {},
   "source": [
    "## Decorator arguments @func(x,y)"
   ]
  },
  {
   "cell_type": "code",
   "execution_count": 9,
   "metadata": {},
   "outputs": [],
   "source": [
    "# Passing arguments to a decorator, to change its behaviour can be achieved as follows\n",
    "\n",
    "from functools import wraps\n",
    "import logging\n",
    "\n",
    "def logged(level, name=None, message=None):\n",
    "    '''\n",
    "    Add logging to a function.  \n",
    "    - level is the logging level.\n",
    "    - name is the logger\n",
    "    - message is the log message\n",
    "    If name and mesage are not provided, the module and function name are used by default.\n",
    "    '''\n",
    "    \n",
    "    def decorate(func):\n",
    "        logname = name if name else func.__module__\n",
    "        log = logging.getLogger(logname)\n",
    "        log.setLevel(level)\n",
    "        logmsg = message if message else func.__name__\n",
    "        ch = logging.StreamHandler()\n",
    "               \n",
    "        # create formatter\n",
    "        formatter = logging.Formatter('%(asctime)s - %(name)s - %(levelname)s - %(message)s')\n",
    "\n",
    "        # add formatter to ch\n",
    "        ch.setFormatter(formatter)\n",
    "\n",
    "        # add ch to logger\n",
    "        log.addHandler(ch)\n",
    "        \n",
    "        @wraps(func)\n",
    "        def wrapper(*args, **kwargs):\n",
    "            log.log(level,logmsg)\n",
    "            return(func(*args, **kwargs))\n",
    "        \n",
    "        return wrapper\n",
    "    return decorate\n"
   ]
  },
  {
   "cell_type": "code",
   "execution_count": 10,
   "metadata": {},
   "outputs": [
    {
     "name": "stderr",
     "output_type": "stream",
     "text": [
      "2021-07-15 08:13:24,431 - __main__ - DEBUG - add\n",
      "2021-07-15 08:13:24,431 - __main__ - DEBUG - add\n",
      "2021-07-15 08:13:24,431 - __main__ - DEBUG - add\n",
      "2021-07-15 08:13:24,431 - __main__ - DEBUG - add\n"
     ]
    },
    {
     "data": {
      "text/plain": [
       "3"
      ]
     },
     "execution_count": 10,
     "metadata": {},
     "output_type": "execute_result"
    }
   ],
   "source": [
    "@logged(logging.DEBUG)\n",
    "def add(x,y):\n",
    "    return x + y\n",
    "\n",
    "add(1,2)    "
   ]
  },
  {
   "cell_type": "code",
   "execution_count": 11,
   "metadata": {},
   "outputs": [
    {
     "name": "stderr",
     "output_type": "stream",
     "text": [
      "2021-07-15 08:13:25,791 - example - CRITICAL - spam\n",
      "2021-07-15 08:13:25,791 - example - CRITICAL - spam\n",
      "2021-07-15 08:13:25,791 - example - CRITICAL - spam\n"
     ]
    },
    {
     "name": "stdout",
     "output_type": "stream",
     "text": [
      "SPAM....!\n"
     ]
    }
   ],
   "source": [
    "@logged(logging.CRITICAL,'example')\n",
    "def spam():\n",
    "    print('SPAM....!')\n",
    "\n",
    "spam()"
   ]
  },
  {
   "cell_type": "markdown",
   "metadata": {},
   "source": [
    "## Slowing down code with a decorator"
   ]
  },
  {
   "cell_type": "code",
   "execution_count": 12,
   "metadata": {},
   "outputs": [],
   "source": [
    "# this is an example of using a decorator to slow down a function using time.sleep()\n",
    "# useful if polling a website for changes for example\n",
    "import functools\n",
    "import time\n",
    "\n",
    "def slow_down(func):\n",
    "    \"\"\"Sleep 1 second before calling the function\"\"\"\n",
    "    @functools.wraps(func)\n",
    "    def wrapper_slow_down(*args, **kwargs):\n",
    "        time.sleep(1)\n",
    "        return func(*args, **kwargs)\n",
    "    return wrapper_slow_down\n",
    "\n",
    "@slow_down\n",
    "def countdown(from_number):\n",
    "    if from_number < 1:\n",
    "        print(\"Liftoff!\")\n",
    "    else:\n",
    "        print(from_number)\n",
    "        countdown(from_number - 1)"
   ]
  },
  {
   "cell_type": "code",
   "execution_count": 14,
   "metadata": {},
   "outputs": [
    {
     "name": "stdout",
     "output_type": "stream",
     "text": [
      "10\n",
      "9\n",
      "8\n",
      "7\n",
      "6\n",
      "5\n",
      "4\n",
      "3\n",
      "2\n",
      "1\n",
      "Liftoff!\n"
     ]
    }
   ],
   "source": [
    "countdown(10)"
   ]
  },
  {
   "cell_type": "code",
   "execution_count": 19,
   "metadata": {},
   "outputs": [],
   "source": [
    "# this is an example of using a decorator to slow down a function using time.sleep()\n",
    "# useful if polling a website for changes for example\n",
    "# this example passes a parameter to the decorator\n",
    "\n",
    "import functools\n",
    "import time\n",
    "\n",
    "def slow_down(period):\n",
    "    \"\"\"Sleep 1 second before calling the function\"\"\"\n",
    "   \n",
    "    def decorator(func):\n",
    "        @functools.wraps(func)\n",
    "        def wrapper_slow_down(*args, **kwargs):\n",
    "            time.sleep(period)  # this is where we use the decorator parameter\n",
    "            return func(*args, **kwargs)\n",
    "        return wrapper_slow_down\n",
    "    \n",
    "    return decorator\n",
    "    \n",
    "\n",
    "@slow_down(2)\n",
    "def countdown(from_number):\n",
    "    if from_number < 1:\n",
    "        print(\"Liftoff!\")\n",
    "    else:\n",
    "        print(from_number)\n",
    "        countdown(from_number - 1)"
   ]
  },
  {
   "cell_type": "code",
   "execution_count": 20,
   "metadata": {},
   "outputs": [
    {
     "name": "stdout",
     "output_type": "stream",
     "text": [
      "5\n",
      "4\n",
      "3\n",
      "2\n",
      "1\n",
      "Liftoff!\n"
     ]
    }
   ],
   "source": [
    "countdown(5)  # run function every 5 seconds"
   ]
  },
  {
   "cell_type": "code",
   "execution_count": 40,
   "metadata": {},
   "outputs": [],
   "source": [
    "# this is an example of using a decorator to slow down a function using time.sleep()\n",
    "# useful if polling a website for changes for example\n",
    "# this example passes a parameter to the decorator, but the parameter is OPTIONAL\n",
    "\n",
    "import functools\n",
    "import time\n",
    "\n",
    "def slow_down(_func=None, *, period=1):\n",
    "    \"\"\"Sleep given amount of seconds before calling the function\"\"\"\n",
    "    \n",
    "    \"\"\"\n",
    "        Here, the _func argument acts as a marker, noting whether the decorator has been called with arguments or not:\n",
    "        If slow_down has been called without arguments, the decorated function will be passed in as _func. \n",
    "        If it has been called with arguments, then _func will be None, and some of the keyword arguments \n",
    "        may have been changed from their default values. \n",
    "        The * in the argument list means that the remaining arguments can’t be called as positional arguments.       \n",
    "    \"\"\"\n",
    "    def decorator_slow_down(func):\n",
    "        @functools.wraps(func)\n",
    "        def wrapper_slow_down(*args, **kwargs):\n",
    "            time.sleep(period)\n",
    "            return func(*args, **kwargs)\n",
    "        return wrapper_slow_down\n",
    "\n",
    "    if _func is None:\n",
    "        return decorator_slow_down\n",
    "    else:\n",
    "        return decorator_slow_down(_func)\n",
    "    \n",
    "    \n",
    "\n",
    "@slow_down(period=5)\n",
    "def countdown(from_number):\n",
    "    if from_number < 1:\n",
    "        print(\"Liftoff!\")\n",
    "    else:\n",
    "        print(from_number)\n",
    "        countdown(from_number - 1)\n",
    "        \n",
    "@slow_down\n",
    "def countdown_default(from_number):\n",
    "    if from_number < 1:\n",
    "        print(\"Liftoff!\")\n",
    "    else:\n",
    "        print(from_number)\n",
    "        countdown(from_number - 1)\n",
    "        \n"
   ]
  },
  {
   "cell_type": "code",
   "execution_count": 41,
   "metadata": {},
   "outputs": [
    {
     "name": "stdout",
     "output_type": "stream",
     "text": [
      "10\n",
      "9\n",
      "8\n",
      "7\n",
      "6\n",
      "5\n",
      "4\n",
      "3\n",
      "2\n",
      "1\n",
      "Liftoff!\n"
     ]
    }
   ],
   "source": [
    "# In this case, the decorator was called with arguments. \n",
    "# Return a decorator function that can read and return a function.\n",
    "countdown(10)"
   ]
  },
  {
   "cell_type": "code",
   "execution_count": 39,
   "metadata": {},
   "outputs": [
    {
     "name": "stdout",
     "output_type": "stream",
     "text": [
      "10\n",
      "9\n",
      "8\n",
      "7\n",
      "6\n",
      "5\n",
      "4\n",
      "3\n",
      "2\n",
      "1\n",
      "Liftoff!\n"
     ]
    }
   ],
   "source": [
    "# In this case, the decorator was called without decorator arguments. \n",
    "# Apply the decorator to the function immediately, which uses the default value for period of 1 second\n",
    "countdown_default(10)"
   ]
  },
  {
   "cell_type": "markdown",
   "metadata": {},
   "source": [
    "## Stateful decorators"
   ]
  },
  {
   "cell_type": "markdown",
   "metadata": {},
   "source": [
    "### Using functional attributes to collect state"
   ]
  },
  {
   "cell_type": "code",
   "execution_count": 43,
   "metadata": {},
   "outputs": [],
   "source": [
    "# we can use the num_calls function attribute to track the number of times a decorated function is called\n",
    "import functools\n",
    "\n",
    "def count_calls(func):\n",
    "    @functools.wraps(func)\n",
    "    def wrapper_count_calls(*args, **kwargs):\n",
    "        wrapper_count_calls.num_calls += 1\n",
    "        print(f\"Call {wrapper_count_calls.num_calls} of {func.__name__!r}\")\n",
    "        return func(*args, **kwargs)\n",
    "    wrapper_count_calls.num_calls = 0\n",
    "    return wrapper_count_calls\n",
    "\n",
    "@count_calls\n",
    "def say_whee():\n",
    "    print(\"Whee!\")"
   ]
  },
  {
   "cell_type": "code",
   "execution_count": 44,
   "metadata": {},
   "outputs": [
    {
     "name": "stdout",
     "output_type": "stream",
     "text": [
      "Call 1 of 'say_whee'\n",
      "Whee!\n",
      "Call 2 of 'say_whee'\n",
      "Whee!\n",
      "Call 3 of 'say_whee'\n",
      "Whee!\n",
      "Call 4 of 'say_whee'\n",
      "Whee!\n",
      "Call 5 of 'say_whee'\n",
      "Whee!\n"
     ]
    }
   ],
   "source": [
    "say_whee()\n",
    "say_whee()\n",
    "say_whee()\n",
    "say_whee()\n",
    "say_whee()\n"
   ]
  },
  {
   "cell_type": "markdown",
   "metadata": {},
   "source": [
    "### Using classes to collect state"
   ]
  },
  {
   "cell_type": "code",
   "execution_count": 46,
   "metadata": {},
   "outputs": [],
   "source": [
    "# classes can be used as decorators but they must be callable\n",
    "# to make a class callable, the class must implement the __call__ method\n",
    "\n",
    "class Counter:\n",
    "    def __init__(self, start=0):\n",
    "        self.count = start\n",
    "\n",
    "    def __call__(self):\n",
    "        self.count += 1\n",
    "        print(f\"Current count is {self.count}\")"
   ]
  },
  {
   "cell_type": "code",
   "execution_count": 50,
   "metadata": {},
   "outputs": [
    {
     "name": "stdout",
     "output_type": "stream",
     "text": [
      "Current count is 1\n",
      "Current count is 2\n",
      "Current count is 1\n",
      "Current count is 2\n"
     ]
    }
   ],
   "source": [
    "# Counter instances are now callable\n",
    "counter1 = Counter()\n",
    "counter1()\n",
    "counter1()\n",
    "\n",
    "counter2 = Counter()\n",
    "counter2()\n",
    "counter2()"
   ]
  },
  {
   "cell_type": "code",
   "execution_count": 53,
   "metadata": {},
   "outputs": [],
   "source": [
    "import functools\n",
    "\n",
    "class CountCalls:\n",
    "    def __init__(self, func):\n",
    "        functools.update_wrapper(self, func)\n",
    "        self.func = func\n",
    "        self.num_calls = 0\n",
    "\n",
    "    def __call__(self, *args, **kwargs):\n",
    "        self.num_calls += 1\n",
    "        print(f\"Call {self.num_calls} of {self.func.__name__!r}\")\n",
    "        return self.func(*args, **kwargs)\n",
    "\n",
    "@CountCalls\n",
    "def say_whee():\n",
    "    print(\"Whee!\")\n",
    "    \n",
    "    \n",
    "\n",
    "@CountCalls\n",
    "def say_hello():\n",
    "    print(\"Hello!\")"
   ]
  },
  {
   "cell_type": "code",
   "execution_count": 54,
   "metadata": {},
   "outputs": [
    {
     "name": "stdout",
     "output_type": "stream",
     "text": [
      "Call 1 of 'say_whee'\n",
      "Whee!\n",
      "Call 2 of 'say_whee'\n",
      "Whee!\n",
      "Call 3 of 'say_whee'\n",
      "Whee!\n"
     ]
    }
   ],
   "source": [
    "say_whee()\n",
    "say_whee()\n",
    "say_whee()"
   ]
  },
  {
   "cell_type": "code",
   "execution_count": 55,
   "metadata": {},
   "outputs": [
    {
     "name": "stdout",
     "output_type": "stream",
     "text": [
      "Call 1 of 'say_hello'\n",
      "Hello!\n",
      "Call 2 of 'say_hello'\n",
      "Hello!\n",
      "Call 3 of 'say_hello'\n",
      "Hello!\n"
     ]
    }
   ],
   "source": [
    "say_hello()\n",
    "say_hello()\n",
    "say_hello()"
   ]
  },
  {
   "cell_type": "code",
   "execution_count": 56,
   "metadata": {},
   "outputs": [
    {
     "name": "stdout",
     "output_type": "stream",
     "text": [
      "Call 4 of 'say_whee'\n",
      "Whee!\n"
     ]
    }
   ],
   "source": [
    "say_whee()"
   ]
  },
  {
   "cell_type": "code",
   "execution_count": 58,
   "metadata": {},
   "outputs": [
    {
     "name": "stdout",
     "output_type": "stream",
     "text": [
      "Call 5 of 'say_hello'\n",
      "Hello!\n",
      "Call 6 of 'say_hello'\n",
      "Hello!\n",
      "Call 7 of 'say_hello'\n",
      "Hello!\n",
      "Call 8 of 'say_hello'\n",
      "Hello!\n",
      "Call 9 of 'say_hello'\n",
      "Hello!\n"
     ]
    }
   ],
   "source": [
    "say_hello()\n",
    "say_hello()\n",
    "say_hello()\n",
    "say_hello()\n",
    "say_hello()"
   ]
  },
  {
   "cell_type": "code",
   "execution_count": 59,
   "metadata": {},
   "outputs": [
    {
     "name": "stdout",
     "output_type": "stream",
     "text": [
      "Call 5 of 'say_whee'\n",
      "Whee!\n"
     ]
    }
   ],
   "source": [
    "say_whee()"
   ]
  },
  {
   "cell_type": "markdown",
   "metadata": {},
   "source": [
    "## Singleton decorator"
   ]
  },
  {
   "cell_type": "code",
   "execution_count": 62,
   "metadata": {},
   "outputs": [],
   "source": [
    "# here is a singleton decorator which stores the first created instance of a class in a funtion attribute 'instance'\n",
    "# subsequent requests to create an instance of the class, simply return the existing instance\n",
    "import functools\n",
    "\n",
    "def singleton(cls):\n",
    "    \"\"\"Make a class a Singleton class (only one instance)\"\"\"\n",
    "    @functools.wraps(cls)\n",
    "    def wrapper_singleton(*args, **kwargs):\n",
    "        if not wrapper_singleton.instance:\n",
    "            wrapper_singleton.instance = cls(*args, **kwargs)\n",
    "        return wrapper_singleton.instance\n",
    "    wrapper_singleton.instance = None\n",
    "    return wrapper_singleton\n",
    "\n",
    "@singleton\n",
    "class TheOne:\n",
    "    pass"
   ]
  },
  {
   "cell_type": "code",
   "execution_count": 63,
   "metadata": {},
   "outputs": [
    {
     "data": {
      "text/plain": [
       "True"
      ]
     },
     "execution_count": 63,
     "metadata": {},
     "output_type": "execute_result"
    }
   ],
   "source": [
    "# even though we create two instances, we can see they are the exact same instance \n",
    "\n",
    "c = TheOne()\n",
    "d = TheOne()\n",
    "\n",
    "c is d"
   ]
  },
  {
   "cell_type": "code",
   "execution_count": null,
   "metadata": {},
   "outputs": [],
   "source": []
  }
 ],
 "metadata": {
  "kernelspec": {
   "display_name": "Python 3",
   "language": "python",
   "name": "python3"
  },
  "language_info": {
   "codemirror_mode": {
    "name": "ipython",
    "version": 3
   },
   "file_extension": ".py",
   "mimetype": "text/x-python",
   "name": "python",
   "nbconvert_exporter": "python",
   "pygments_lexer": "ipython3",
   "version": "3.7.4"
  }
 },
 "nbformat": 4,
 "nbformat_minor": 4
}
