{
 "cells": [
  {
   "cell_type": "markdown",
   "metadata": {},
   "source": [
    "# Decorators"
   ]
  },
  {
   "cell_type": "markdown",
   "metadata": {},
   "source": [
    "## Simple example of what a decorator does"
   ]
  },
  {
   "cell_type": "markdown",
   "metadata": {},
   "source": [
    "### Functions are first class objects - what does this mean?"
   ]
  },
  {
   "cell_type": "code",
   "execution_count": 10,
   "metadata": {},
   "outputs": [
    {
     "name": "stdout",
     "output_type": "stream",
     "text": [
      "Logging something\n"
     ]
    }
   ],
   "source": [
    "# functions in python are first class objects, and so can be passed as arguments and returned from functions\n",
    "def log_output():\n",
    "    print(\"Logging something\")\n",
    "    \n",
    "\n",
    "# this is assigning a function to a variable, not executing the function and storing the result\n",
    "log = log_output\n",
    "\n",
    "# this executest the function\n",
    "log()"
   ]
  },
  {
   "cell_type": "code",
   "execution_count": 11,
   "metadata": {},
   "outputs": [
    {
     "name": "stdout",
     "output_type": "stream",
     "text": [
      "Before...\n",
      "Logging something\n",
      "After...\n"
     ]
    }
   ],
   "source": [
    "# we can pass the function as a parameter to another function\n",
    "\n",
    "def log_something(func):\n",
    "    print(\"Before...\")\n",
    "    func() # invoke the function passed in as an argument\n",
    "    print(\"After...\")\n",
    "\n",
    "# log is a function here\n",
    "log_something(log)  "
   ]
  },
  {
   "cell_type": "markdown",
   "metadata": {},
   "source": [
    "### Functions can be defined within functions, and returned - these are known as closures"
   ]
  },
  {
   "cell_type": "code",
   "execution_count": null,
   "metadata": {},
   "outputs": [],
   "source": [
    "# we can now return a function from a function, this is called a closure\n",
    "\n",
    "def make_case(case_type):\n",
    "    \n",
    "    def upper(value):\n",
    "        return value.upper()\n",
    "\n",
    "    def lower(value):\n",
    "        return value.lower()\n",
    "    \n",
    "\n",
    "    if case_type == 'u':\n",
    "        return upper\n",
    "    else:\n",
    "        return lower"
   ]
  },
  {
   "cell_type": "code",
   "execution_count": 33,
   "metadata": {},
   "outputs": [
    {
     "name": "stdout",
     "output_type": "stream",
     "text": [
      "HELLO\n",
      "hello\n"
     ]
    }
   ],
   "source": [
    "# If we pass 'u' as the case_type parameter, the upper() closure is returned, otherwise the lower() closure is returned\n",
    "func = make_case('u')\n",
    "print(func('Hello'))\n",
    "\n",
    "func = make_case('l')\n",
    "print(func('Hello'))"
   ]
  },
  {
   "cell_type": "code",
   "execution_count": 34,
   "metadata": {},
   "outputs": [
    {
     "data": {
      "text/plain": [
       "'HELLO THERE, HOW ARE YOU?'"
      ]
     },
     "execution_count": 34,
     "metadata": {},
     "output_type": "execute_result"
    }
   ],
   "source": [
    "# Now if we take this one step further and pass in a function, and return a closure which executes the function\n",
    "# We can change the way the function passed in as an argument operates\n",
    "\n",
    "def make_upper(func):\n",
    "    \n",
    "    def wrapper():\n",
    "        # execute the function passed in as an argument\n",
    "        result = func()\n",
    "        \n",
    "        # convert to upper case and return the result\n",
    "        modified_result =  result.upper()\n",
    "        return modified_result\n",
    "    \n",
    "    # return the modified function\n",
    "    return wrapper\n",
    "\n",
    "\n",
    "# this is a base function we want to modify\n",
    "def greet():\n",
    "    return \"Hello there, how are you?\"\n",
    "\n",
    "\n",
    "greet()\n",
    "\n",
    "# here we create modify the behaviour of greet() to force to upper case\n",
    "greet = make_upper(greet)\n",
    "\n",
    "# eecuting the function now, is exeuting the wrapper function around the original greet function\n",
    "greet()\n"
   ]
  },
  {
   "cell_type": "markdown",
   "metadata": {},
   "source": [
    "## Decorator Syntax"
   ]
  },
  {
   "cell_type": "code",
   "execution_count": 35,
   "metadata": {},
   "outputs": [
    {
     "data": {
      "text/plain": [
       "'GOODNIGHT EVERYONE'"
      ]
     },
     "execution_count": 35,
     "metadata": {},
     "output_type": "execute_result"
    }
   ],
   "source": [
    "# now we understand how a function can effetively return a function (a closure()), and we can pass in functions\n",
    "# ...and therefore wrap behaviour around a function to alter its behaviour...we can introduce the decorator syntax\n",
    "\n",
    "# the syntax demonstrated above, can be simplified using the @ decorator syntax\n",
    "# this example is effectively exactly the same as: say_goodnight =  make_upper(say_goodnight)\n",
    "@make_upper\n",
    "def say_goodnight():\n",
    "    return \"Goodnight everyone\"\n",
    "\n",
    "say_goodnight()"
   ]
  },
  {
   "cell_type": "code",
   "execution_count": 37,
   "metadata": {},
   "outputs": [
    {
     "data": {
      "text/plain": [
       "'SOMETHING!!'"
      ]
     },
     "execution_count": 37,
     "metadata": {},
     "output_type": "execute_result"
    }
   ],
   "source": [
    "# we can now add @make_upper to any function which returns a string value, to alter its behaviour \n",
    "@make_upper\n",
    "def say_something():\n",
    "    return \"Something!!\"\n",
    "\n",
    "say_something()"
   ]
  },
  {
   "cell_type": "markdown",
   "metadata": {},
   "source": [
    "### Applying multiple decorators"
   ]
  },
  {
   "cell_type": "code",
   "execution_count": 40,
   "metadata": {},
   "outputs": [
    {
     "data": {
      "text/plain": [
       "'!ereht olle'"
      ]
     },
     "execution_count": 40,
     "metadata": {},
     "output_type": "execute_result"
    }
   ],
   "source": [
    "# multiple decorators can be applied to a function\n",
    "\n",
    "# reverse a string\n",
    "def reverse(func):\n",
    "    \n",
    "    def wrapper():\n",
    "        result = func()\n",
    "        result = result[::-1]\n",
    "        return result\n",
    "    \n",
    "    return wrapper\n",
    "\n",
    "# remove first character of a string\n",
    "def remove_first(func):\n",
    "    def wrapper():\n",
    "        result = func()\n",
    "        result = result[1:]\n",
    "        return result\n",
    "    \n",
    "    return wrapper\n",
    "\n",
    "\n",
    "# here we add multiple decorators, note how they are executed \"upwards\"\n",
    "# i.e. the first character is removed and then the string is reversed\n",
    "# this is the same as the syntax : process_string = reverse(remove_first(process_string))\n",
    "@reverse\n",
    "@remove_first\n",
    "def process_string():\n",
    "    return \"Hello there!\"\n",
    "\n",
    "process_string()"
   ]
  },
  {
   "cell_type": "code",
   "execution_count": 41,
   "metadata": {},
   "outputs": [
    {
     "data": {
      "text/plain": [
       "'ereht olleH'"
      ]
     },
     "execution_count": 41,
     "metadata": {},
     "output_type": "execute_result"
    }
   ],
   "source": [
    "# here we add multiple decorators, note how they are executed \"upwards\"\n",
    "# i.e. the string is reversed and THEN the first character is removed\n",
    "# this is the same as the syntax : process_string = remove_first(reverse(process_string))\n",
    "@remove_first\n",
    "@reverse\n",
    "def process_string():\n",
    "    return \"Hello there!\"\n",
    "\n",
    "process_string()"
   ]
  },
  {
   "cell_type": "code",
   "execution_count": 43,
   "metadata": {},
   "outputs": [
    {
     "data": {
      "text/plain": [
       "'ello there!'"
      ]
     },
     "execution_count": 43,
     "metadata": {},
     "output_type": "execute_result"
    }
   ],
   "source": [
    "# And of course we apply one, both or neither of the decorators\n",
    "@remove_first\n",
    "def process_string():\n",
    "    return \"Hello there!\"\n",
    "\n",
    "process_string()"
   ]
  },
  {
   "cell_type": "markdown",
   "metadata": {},
   "source": [
    "## Decorators with arguments"
   ]
  },
  {
   "cell_type": "code",
   "execution_count": 45,
   "metadata": {},
   "outputs": [],
   "source": [
    "# the examples so far have not had to deal with decorating functions with arguments\n",
    "\n",
    "def reverse(func):\n",
    "    \n",
    "    def wrapper():\n",
    "        result = func()\n",
    "        result = result[::-1]\n",
    "        return result\n",
    "    \n",
    "    return wrapper\n",
    "\n",
    "\n",
    "@reverse\n",
    "def process_string(string_to_process):\n",
    "    return string_to_process.upper();"
   ]
  },
  {
   "cell_type": "code",
   "execution_count": 47,
   "metadata": {},
   "outputs": [
    {
     "name": "stdout",
     "output_type": "stream",
     "text": [
      "Error:  wrapper() takes 0 positional arguments but 1 was given\n"
     ]
    }
   ],
   "source": [
    "# this wont work\n",
    "try:\n",
    "    process_string('Hello')\n",
    "except Exception as e:\n",
    "    print(\"Error: \", e)"
   ]
  },
  {
   "cell_type": "code",
   "execution_count": 51,
   "metadata": {},
   "outputs": [
    {
     "name": "stdout",
     "output_type": "stream",
     "text": [
      "OLLEH\n",
      "OLLEH\n"
     ]
    }
   ],
   "source": [
    "# we solve this with *args and **kwargs\n",
    "def reverse(func):\n",
    "    \n",
    "    def wrapper(*args, **kwargs):\n",
    "        result = func(*args, **kwargs)\n",
    "        result = result[::-1]\n",
    "        return result\n",
    "    \n",
    "    return wrapper\n",
    "\n",
    "@reverse\n",
    "def process_string(string_to_process):\n",
    "    return string_to_process.upper();\n",
    "\n",
    "print(process_string('Hello'))\n",
    "print(process_string(string_to_process = 'Hello'))"
   ]
  },
  {
   "cell_type": "markdown",
   "metadata": {},
   "source": [
    "## Trace example    "
   ]
  },
  {
   "cell_type": "code",
   "execution_count": 64,
   "metadata": {},
   "outputs": [
    {
     "name": "stdout",
     "output_type": "stream",
     "text": [
      "TRACE: calling program_to_trace() with args ('I like you',), {}\n",
      "TRACE: program_to_trace() returned 'UOY EKIL I'\n",
      "TRACE: calling program_to_trace() with args ('What is your name?',), {}\n",
      "TRACE: program_to_trace() returned '?EMAN RUOY SI TAHW'\n",
      "TRACE: calling another_program_to_trace() with args (), {'value': 'I like you'}\n",
      "TRACE: another_program_to_trace() returned 'uoy ekil i'\n",
      "TRACE: calling another_program_to_trace() with args (), {'value': 'What is your name?'}\n",
      "TRACE: another_program_to_trace() returned '?eman ruoy si tahw'\n"
     ]
    },
    {
     "data": {
      "text/plain": [
       "'?eman ruoy si tahw'"
      ]
     },
     "execution_count": 64,
     "metadata": {},
     "output_type": "execute_result"
    }
   ],
   "source": [
    "# this example allows us to trace each function call by printing out the function name being called, \n",
    "# any arguments and the return value\n",
    "def trace(func):\n",
    "\n",
    "    def wrapper(*args, **kwargs):\n",
    "        print(f\"TRACE: calling {func.__name__}() \" \n",
    "              f\"with args {args}, {kwargs}\")\n",
    "        original_result = func(*args, **kwargs)\n",
    "        print(f\"TRACE: {func.__name__}() \" \n",
    "              f\"returned {original_result!r}\")\n",
    "        return original_result\n",
    "    \n",
    "    return wrapper\n",
    "\n",
    "\n",
    "@trace\n",
    "def program_to_trace(value):\n",
    "    return value[::-1].upper()\n",
    "\n",
    "# all the arguments are positional and not keyword arguments\n",
    "program_to_trace(\"I like you\")\n",
    "program_to_trace(\"What is your name?\")\n",
    "\n",
    "@trace\n",
    "def another_program_to_trace(value):\n",
    "    return value[::-1].lower()\n",
    "\n",
    "# note how the trace picks up the keyword arguments this time\n",
    "another_program_to_trace(value=\"I like you\")\n",
    "another_program_to_trace(value=\"What is your name?\")"
   ]
  },
  {
   "cell_type": "code",
   "execution_count": null,
   "metadata": {},
   "outputs": [],
   "source": []
  }
 ],
 "metadata": {
  "kernelspec": {
   "display_name": "Python 3",
   "language": "python",
   "name": "python3"
  },
  "language_info": {
   "codemirror_mode": {
    "name": "ipython",
    "version": 3
   },
   "file_extension": ".py",
   "mimetype": "text/x-python",
   "name": "python",
   "nbconvert_exporter": "python",
   "pygments_lexer": "ipython3",
   "version": "3.7.4"
  }
 },
 "nbformat": 4,
 "nbformat_minor": 4
}
