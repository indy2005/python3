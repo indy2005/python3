{
 "cells": [
  {
   "cell_type": "markdown",
   "metadata": {},
   "source": [
    "# Iterators and Generators"
   ]
  },
  {
   "cell_type": "markdown",
   "metadata": {},
   "source": [
    "## Iterators"
   ]
  },
  {
   "cell_type": "markdown",
   "metadata": {},
   "source": [
    "### Behind the Scenes"
   ]
  },
  {
   "cell_type": "code",
   "execution_count": 6,
   "metadata": {},
   "outputs": [
    {
     "name": "stdout",
     "output_type": "stream",
     "text": [
      "stephen\n",
      "mary\n",
      "fred\n",
      "jane\n"
     ]
    }
   ],
   "source": [
    "# Testing how to manually use an iterator object\n",
    "employees = ['stephen','mary','fred','jane']\n",
    "i = iter(employees)\n",
    "\n",
    "employee = next(i)\n",
    "print(employee)\n",
    "\n",
    "employee = next(i)\n",
    "print(employee)\n",
    "\n",
    "employee = next(i)\n",
    "print(employee)\n",
    "\n",
    "employee = next(i)\n",
    "print(employee)"
   ]
  },
  {
   "cell_type": "code",
   "execution_count": 8,
   "metadata": {},
   "outputs": [
    {
     "name": "stdout",
     "output_type": "stream",
     "text": [
      "End of collection reached...\n"
     ]
    }
   ],
   "source": [
    "# this will raise an exception as we have reached the \n",
    "try:\n",
    "    employee = next(i)\n",
    "    print(employee)\n",
    "except StopIteration as e:\n",
    "    print(\"End of collection reached...\")\n"
   ]
  },
  {
   "cell_type": "markdown",
   "metadata": {},
   "source": [
    "### Implementing an iterable"
   ]
  },
  {
   "cell_type": "code",
   "execution_count": 11,
   "metadata": {},
   "outputs": [
    {
     "name": "stdout",
     "output_type": "stream",
     "text": [
      "15\n",
      "14\n",
      "13\n",
      "12\n",
      "11\n",
      "10\n",
      "9\n",
      "8\n",
      "7\n",
      "6\n",
      "5\n",
      "4\n",
      "3\n",
      "2\n",
      "1\n"
     ]
    }
   ],
   "source": [
    "# To implement the iterable protocol, \n",
    "# a __iter__() method should be provided which returns an instance of a class which implements __next__()\n",
    "# the __next__() method needs to raise a StopIteration exception\n",
    "\n",
    "\n",
    "# IterateBackwards implements the iterable protocol and iterates over a collection backwards\n",
    "class IterateBackwards:\n",
    "    \n",
    "    def __init__(self, data):\n",
    "        self.data = data\n",
    "        self.index = len(data)\n",
    "        \n",
    "    def __iter__(self):\n",
    "        return self\n",
    "    \n",
    "    def __next__(self):\n",
    "        if self.index == 0:\n",
    "            raise StopIteration\n",
    "        \n",
    "        self.index = self.index - 1\n",
    "        return self.data[self.index]\n",
    "        \n",
    "        \n",
    "items = [1,2,3,4,5,6,7,8,9,10,11,12,13,14,15]\n",
    "iterator = IterateBackwards([1,2,3,4,5,6,7,8,9,10,11,12,13,14,15])\n",
    "\n",
    "# We can now use a for loop as we have implemented the iterable protocol\n",
    "for item in iterator:\n",
    "    print(item)"
   ]
  },
  {
   "cell_type": "markdown",
   "metadata": {},
   "source": [
    "### Delegating Iteration"
   ]
  },
  {
   "cell_type": "code",
   "execution_count": 27,
   "metadata": {},
   "outputs": [
    {
     "name": "stdout",
     "output_type": "stream",
     "text": [
      "Node(1)\n",
      "Node(2)\n"
     ]
    }
   ],
   "source": [
    "class Node:\n",
    "    \n",
    "    def __init__(self, value):\n",
    "        self._value = value\n",
    "        self._children = []\n",
    "        \n",
    "    \n",
    "    def __repr__(self): \n",
    "        # https://stackoverflow.com/questions/38418070/what-does-r-do-in-str-and-repr\n",
    "        return 'Node({!r})'.format(self._value)\n",
    "    \n",
    "    def add_child(self, node):\n",
    "        self._children.append(node)\n",
    "        \n",
    "    def __iter__(self):\n",
    "        # delegate the iteration down to children, which because it is a list\n",
    "        # already implements the iterable protocol\n",
    "        return iter(self._children)\n",
    "    \n",
    "\n",
    "root = Node(0)\n",
    "child1 = Node(1)\n",
    "child2 = Node(2)\n",
    "child3  = Node(3)\n",
    "root.add_child(child1)\n",
    "root.add_child(child2)\n",
    "child2.add_child(child3)\n",
    "\n",
    "# because we delegated the iteration down to the _children list, we can use \n",
    "# a for loop against our instance, even though Node does not directly implement the iterator protocol\n",
    "for node in root:\n",
    "    print(node)"
   ]
  },
  {
   "cell_type": "markdown",
   "metadata": {},
   "source": [
    "## Generators"
   ]
  },
  {
   "cell_type": "code",
   "execution_count": 12,
   "metadata": {},
   "outputs": [
    {
     "name": "stdout",
     "output_type": "stream",
     "text": [
      "e\n",
      "i\n",
      "z\n",
      "n\n",
      "e\n",
      "k\n",
      "c\n",
      "a\n",
      "M\n",
      " \n",
      "n\n",
      "e\n",
      "h\n",
      "p\n",
      "e\n",
      "t\n",
      "S\n"
     ]
    }
   ],
   "source": [
    "# Generators are a simple and powerful tool for creating iterators. \n",
    "# They are written like regular functions but use the yield statement whenever they want to return data. \n",
    "# Each time next() is called on it, the generator resumes where it left off \n",
    "# (it remembers all the data values and which statement was last executed). \n",
    "# An example shows that generators can be trivially easy to create.\n",
    "\n",
    "# Generator functions cause the __iter__ and __next__ methods automatically\n",
    "# Note internal variable state is maintained after yield\n",
    "\n",
    "def reverse(data):\n",
    "    for i in range(len(data)-1, -1, -1):\n",
    "        yield data[i]  # return control to the returning function\n",
    "        \n",
    "\n",
    "name = 'Stephen Mackenzie'\n",
    "for c in reverse(name):\n",
    "    print(c)\n",
    "    "
   ]
  },
  {
   "cell_type": "code",
   "execution_count": 24,
   "metadata": {},
   "outputs": [
    {
     "name": "stdout",
     "output_type": "stream",
     "text": [
      "<class 'generator'>\n",
      "0\n",
      "1\n",
      "2\n",
      "3\n",
      "4\n",
      "5\n",
      "6\n",
      "7\n",
      "8\n",
      "9\n",
      "10\n",
      "11\n",
      "12\n",
      "13\n",
      "14\n",
      "15\n",
      "16\n",
      "17\n",
      "18\n",
      "19\n",
      "20\n",
      "21\n",
      "22\n",
      "23\n",
      "24\n",
      "25\n",
      "26\n",
      "27\n",
      "28\n",
      "29\n",
      "30\n",
      "31\n",
      "<class 'generator'>\n",
      "100\n"
     ]
    }
   ],
   "source": [
    "# you could use a generator function to return an infinite sequence of numbers to loop through\n",
    "# which would not be possible without a generator\\yield statement\n",
    "\n",
    "def infinite_sequence(): \n",
    "    startingFrom = 0\n",
    "    while True:\n",
    "        yield startingFrom\n",
    "        startingFrom += 1\n",
    "        \n",
    "        \n",
    "\n",
    "numbers = infinite_sequence()\n",
    "print(type(numbers))  # type is generator\n",
    "\n",
    "for index in infinite_sequence():\n",
    "    print(index)\n",
    "    if index > 30:\n",
    "        break\n",
    "\n",
    "        \n",
    "def infinite_sequence(startingFrom):     \n",
    "    while True:\n",
    "        yield startingFrom\n",
    "        startingFrom += 1\n",
    "        \n",
    "        \n",
    "\n",
    "numbers = infinite_sequence(100)\n",
    "print(type(numbers))   # type is generator\n",
    "\n",
    "for index in numbers:\n",
    "    print(index)\n",
    "    if index > 30:\n",
    "        break\n",
    "    "
   ]
  },
  {
   "cell_type": "code",
   "execution_count": null,
   "metadata": {},
   "outputs": [],
   "source": []
  }
 ],
 "metadata": {
  "kernelspec": {
   "display_name": "Python 3",
   "language": "python",
   "name": "python3"
  },
  "language_info": {
   "codemirror_mode": {
    "name": "ipython",
    "version": 3
   },
   "file_extension": ".py",
   "mimetype": "text/x-python",
   "name": "python",
   "nbconvert_exporter": "python",
   "pygments_lexer": "ipython3",
   "version": "3.7.4"
  }
 },
 "nbformat": 4,
 "nbformat_minor": 4
}
