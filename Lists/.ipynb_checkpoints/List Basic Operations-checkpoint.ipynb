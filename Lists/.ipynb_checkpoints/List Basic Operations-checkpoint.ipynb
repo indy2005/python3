{
 "cells": [
  {
   "cell_type": "markdown",
   "id": "24384906",
   "metadata": {},
   "source": [
    "# Python Lists - Basic Properties and Methods"
   ]
  },
  {
   "cell_type": "markdown",
   "id": "14062479",
   "metadata": {},
   "source": [
    "   ## List initialisation and basic methods"
   ]
  },
  {
   "cell_type": "code",
   "execution_count": 36,
   "id": "538d8a82",
   "metadata": {},
   "outputs": [
    {
     "name": "stdout",
     "output_type": "stream",
     "text": [
      "['apple', 'banana', 'mango', 'orange', 'grape']\n"
     ]
    }
   ],
   "source": [
    "# Initialising a list\n",
    "fruit = ['apple','banana','mango','orange','grape']\n",
    "print(fruit)"
   ]
  },
  {
   "cell_type": "code",
   "execution_count": 37,
   "id": "2a18ac80",
   "metadata": {},
   "outputs": [
    {
     "name": "stdout",
     "output_type": "stream",
     "text": [
      "Length of fruit list is 5\n"
     ]
    }
   ],
   "source": [
    "# len(x): length of list x\n",
    "print(\"Length of fruit list is {0}\".format(len(fruit)))"
   ]
  },
  {
   "cell_type": "code",
   "execution_count": 38,
   "id": "98e85784",
   "metadata": {},
   "outputs": [
    {
     "name": "stdout",
     "output_type": "stream",
     "text": [
      "['apple', 'banana', 'mango', 'orange', 'grape', 'watermelon']\n",
      "Length of fruit list is 6\n"
     ]
    }
   ],
   "source": [
    "# append(x): appending and item to the end of a list\n",
    "fruit.append('watermelon')\n",
    "\n",
    "print(fruit)\n",
    "print(\"Length of fruit list is {0}\".format(len(fruit)))"
   ]
  },
  {
   "cell_type": "code",
   "execution_count": 39,
   "id": "9aa5c2cc",
   "metadata": {},
   "outputs": [
    {
     "name": "stdout",
     "output_type": "stream",
     "text": [
      "['apple', 'banana', 'orange', 'grape', 'watermelon']\n",
      "Length of fruit list is 5\n"
     ]
    }
   ],
   "source": [
    "# remove(x): removing an item from a list, removes first occurence from list\n",
    "\n",
    "try:\n",
    "    fruit.remove('mango')\n",
    "except ValueError as e:\n",
    "    print(\"Error: \", e)\n",
    "finally:\n",
    "    print(fruit)\n",
    "    print(\"Length of fruit list is {0}\".format(len(fruit)))"
   ]
  },
  {
   "cell_type": "code",
   "execution_count": 43,
   "id": "400d6667",
   "metadata": {},
   "outputs": [
    {
     "name": "stdout",
     "output_type": "stream",
     "text": [
      "Before: Length of fruit list is 6\n",
      "['apple', 'banana', 'mango', 'orange', 'grape', 'mango']\n",
      "Items to remove: True\n",
      "After: Length of fruit list is 4\n",
      "['apple', 'banana', 'orange', 'grape']\n"
     ]
    }
   ],
   "source": [
    "# remove(x): remove all occurences of an item from a list\n",
    "fruit = ['apple','banana','mango','orange','grape','mango']\n",
    "\n",
    "print(\"Before: Length of fruit list is {0}\".format(len(fruit)))\n",
    "print(fruit)\n",
    "\n",
    "item_to_remove = 'mango'\n",
    "items_remaining = item_to_remove in fruit\n",
    "print(f\"Items to remove: {items_remaining}\")\n",
    "\n",
    "\n",
    "if items_remaining:\n",
    "    while items_remaining:\n",
    "        fruit.remove(item_to_remove)\n",
    "        items_remaining = item_to_remove in fruit\n",
    "\n",
    "print(\"After: Length of fruit list is {0}\".format(len(fruit)))\n",
    "print(fruit)"
   ]
  },
  {
   "cell_type": "code",
   "execution_count": 42,
   "id": "69edff49",
   "metadata": {},
   "outputs": [
    {
     "name": "stdout",
     "output_type": "stream",
     "text": [
      "['apple', 'banana', 'mango', 'orange', 'grape', 'mango']\n",
      "mango is in the list 2 times\n"
     ]
    }
   ],
   "source": [
    "# count(x) : count all occurences of a value, x, in a list\n",
    "fruit = ['apple','banana','mango','orange','grape','mango']\n",
    "\n",
    "item_to_find = 'mango'\n",
    "print(f\"{item_to_find} is in the list {fruit.count(item_to_find)} times\")"
   ]
  },
  {
   "cell_type": "code",
   "execution_count": 48,
   "id": "6494589f",
   "metadata": {},
   "outputs": [
    {
     "name": "stdout",
     "output_type": "stream",
     "text": [
      "Before: Length of fruit list is 6\n",
      "['apple', 'banana', 'mango', 'orange', 'grape', 'mango']\n",
      "Number of items found in list: 2\n",
      "--iteration 0\n",
      "--iteration 1\n",
      "After: Length of fruit list is 4\n",
      "['apple', 'banana', 'orange', 'grape']\n"
     ]
    }
   ],
   "source": [
    "# Using count(x) and remove(x) as an alternative to remove all items from a list\n",
    "fruit = ['apple','banana','mango','orange','grape','mango']\n",
    "\n",
    "print(\"Before: Length of fruit list is {0}\".format(len(fruit)))\n",
    "print(fruit)\n",
    "\n",
    "item_to_remove = 'mango'\n",
    "item_count = fruit.count(item_to_remove)\n",
    "print(f\"Number of items found in list: {item_count}\")\n",
    "\n",
    "\n",
    "for i in range(0, item_count):\n",
    "    print(f\"--iteration {i}\")\n",
    "    fruit.remove(item_to_remove)\n",
    "\n",
    "print(\"After: Length of fruit list is {0}\".format(len(fruit)))\n",
    "print(fruit)"
   ]
  },
  {
   "cell_type": "code",
   "execution_count": 53,
   "id": "db1f399e",
   "metadata": {},
   "outputs": [
    {
     "name": "stdout",
     "output_type": "stream",
     "text": [
      "['volkswagen', 'ford', 'vauxhall', 'bmw', 'mercedes', 'skoda']\n",
      "['volkswagen', 'ford', 'vauxhall', 'bmw', 'mercedes', 'skoda', 'bentley']\n"
     ]
    }
   ],
   "source": [
    "# insert(i,x): insert an item at index i\n",
    "cars = ['ford','vauxhall','bmw','mercedes','skoda']\n",
    "\n",
    "cars.insert(0,'volkswagen') # place at the front of the list\n",
    "print(cars)\n",
    "\n",
    "cars.insert(len(cars),'bentley') # place at the end of the list, same as append(x)\n",
    "print(cars)"
   ]
  },
  {
   "cell_type": "code",
   "execution_count": 58,
   "id": "8c204a23",
   "metadata": {},
   "outputs": [
    {
     "name": "stdout",
     "output_type": "stream",
     "text": [
      "['ford', 'vauxhall', 'bmw', 'mercedes', 'skoda']\n",
      "Popped car is skoda\n",
      "['ford', 'vauxhall', 'bmw', 'mercedes']\n"
     ]
    }
   ],
   "source": [
    "# pop(): returns the last item in the list, while removing it from the list\n",
    "# append() and pop() operations are equivalent to a Last In First Out queue, or stack\n",
    "# i.e. the first item appended, is the very last item to be popped\n",
    "cars = ['ford','vauxhall','bmw','mercedes','skoda']\n",
    "print(cars)\n",
    "car = cars.pop() # pop off the last item in the list\n",
    "print(f\"Popped car is {car}\")\n",
    "print(cars)\n"
   ]
  },
  {
   "cell_type": "code",
   "execution_count": 61,
   "id": "33d78437",
   "metadata": {},
   "outputs": [
    {
     "name": "stdout",
     "output_type": "stream",
     "text": [
      "['ford', 'vauxhall', 'bmw', 'mercedes', 'skoda']\n",
      "Popped car is bmw\n",
      "['ford', 'vauxhall', 'mercedes', 'skoda']\n"
     ]
    }
   ],
   "source": [
    "# pop(i): removes the ith item from the list and returns it\n",
    "cars = ['ford','vauxhall','bmw','mercedes','skoda']\n",
    "print(cars)\n",
    "\n",
    "car = cars.pop(2) # pop off the item at index 2, i.e. bmw\n",
    "\n",
    "print(f\"Popped car is {car}\")\n",
    "print(cars)\n"
   ]
  },
  {
   "cell_type": "code",
   "execution_count": 64,
   "id": "d0265cee",
   "metadata": {},
   "outputs": [
    {
     "name": "stdout",
     "output_type": "stream",
     "text": [
      "['ford', 'vauxhall', 'bmw', 'mercedes', 'skoda']\n",
      "[]\n"
     ]
    }
   ],
   "source": [
    "# clear(): clear a list\n",
    "cars = ['ford','vauxhall','bmw','mercedes','skoda']\n",
    "print(cars)\n",
    "\n",
    "cars.clear()\n",
    "\n",
    "print(cars)\n"
   ]
  },
  {
   "cell_type": "code",
   "execution_count": 75,
   "id": "ab38949e",
   "metadata": {},
   "outputs": [
    {
     "name": "stdout",
     "output_type": "stream",
     "text": [
      "['apple', 'banana', 'mango', 'orange', 'grape', 'mango', 'watermelon', 'mango']\n",
      "mango is first found at 2\n",
      "mango is first found at 5\n",
      "mango is first found at 7\n"
     ]
    }
   ],
   "source": [
    "# index(x, start (optional), end(optional)): returns the zero based index of the first occurence of x\n",
    "fruit = ['apple','banana','mango','orange','grape','mango','watermelon','mango']\n",
    "print(fruit)\n",
    "index = fruit.index('mango')\n",
    "print(f\"mango is first found at {index}\")\n",
    "\n",
    "# use try catch to do things properly\n",
    "try:\n",
    "    index = fruit.index('mango', 3,6) # 3,6 is used to slice, and so index 6 is not inclusive\n",
    "    print(f\"mango is first found at {index}\")\n",
    "except ValueError as e:\n",
    "    print(\"Error: \", e)\n",
    "\n",
    "# use try catch to do things properly\n",
    "try:\n",
    "    index = fruit.index('mango', 6) # end is not provided, so searches from index 3 to the end\n",
    "    print(f\"mango is first found at {index}\")\n",
    "except ValueError as e:\n",
    "    print(\"Error: \", e)"
   ]
  },
  {
   "cell_type": "code",
   "execution_count": 76,
   "id": "447a5db7",
   "metadata": {},
   "outputs": [
    {
     "name": "stdout",
     "output_type": "stream",
     "text": [
      "['apple', 'banana', 'mango', 'orange', 'grape', 'mango', 'watermelon', 'mango']\n",
      "['apple', 'banana', 'grape', 'mango', 'mango', 'mango', 'orange', 'watermelon']\n"
     ]
    }
   ],
   "source": [
    "# sort(): sort a list in place in ascending order\n",
    "fruit = ['apple','banana','mango','orange','grape','mango','watermelon','mango']\n",
    "print(fruit)\n",
    "fruit.sort()\n",
    "print(fruit)"
   ]
  },
  {
   "cell_type": "code",
   "execution_count": 77,
   "id": "8440f887",
   "metadata": {},
   "outputs": [
    {
     "name": "stdout",
     "output_type": "stream",
     "text": [
      "['apple', 'banana', 'mango', 'orange', 'grape', 'mango', 'watermelon', 'mango']\n",
      "['watermelon', 'orange', 'mango', 'mango', 'mango', 'grape', 'banana', 'apple']\n"
     ]
    }
   ],
   "source": [
    "# sort(reverse): sort a list in place in descending order\n",
    "fruit = ['apple','banana','mango','orange','grape','mango','watermelon','mango']\n",
    "print(fruit)\n",
    "fruit.sort(reverse=True)\n",
    "print(fruit)"
   ]
  },
  {
   "cell_type": "code",
   "execution_count": 98,
   "id": "17b331a9",
   "metadata": {},
   "outputs": [
    {
     "name": "stdout",
     "output_type": "stream",
     "text": [
      "['apple', 'banana', 'mango', 'orange', 'grape', 'mango', 'watermelon', 'mango']\n",
      "sorted by length\n",
      "['apple', 'mango', 'grape', 'mango', 'mango', 'banana', 'orange', 'watermelon']\n",
      "sorted by last character\n",
      "['banana', 'apple', 'grape', 'orange', 'watermelon', 'mango', 'mango', 'mango']\n"
     ]
    }
   ],
   "source": [
    "# sort(key): sort using a specific key\n",
    "fruit = ['apple','banana','mango','orange','grape','mango','watermelon','mango']\n",
    "print(fruit)\n",
    "\n",
    "# sort by the length\n",
    "print(\"sorted by length\")\n",
    "fruit.sort(key=len)\n",
    "print(fruit)\n",
    "\n",
    "# sort by the last character using a lambda\n",
    "print(\"sorted by last character\")\n",
    "fruit.sort(key=lambda x: x[len(x)-1])\n",
    "print(fruit)\n"
   ]
  },
  {
   "cell_type": "code",
   "execution_count": 100,
   "id": "169e26c8",
   "metadata": {},
   "outputs": [
    {
     "name": "stdout",
     "output_type": "stream",
     "text": [
      "[('apple', 30), ('banana', 60), ('orange', 25), ('mango', 100)]\n",
      "sorting a list of tuples based on index 1 of each tuple i.e. price\n",
      "[('orange', 25), ('apple', 30), ('banana', 60), ('mango', 100)]\n"
     ]
    }
   ],
   "source": [
    "# sort(key): sort a list of tuples using a paticular index\n",
    "from operator import itemgetter, attrgetter\n",
    "\n",
    "\n",
    "fruit_prices = [('apple', 30),('banana', 60), ('orange', 25), ('mango', 100)]\n",
    "print(fruit_prices)\n",
    "print(\"sorting a list of tuples based on index 1 of each tuple i.e. price\")\n",
    "fruit_prices.sort(key=itemgetter(1))\n",
    "print(fruit_prices)"
   ]
  },
  {
   "cell_type": "code",
   "execution_count": 103,
   "id": "ef5e6ee7",
   "metadata": {},
   "outputs": [
    {
     "name": "stdout",
     "output_type": "stream",
     "text": [
      "[('apple', 30), ('banana', 60), ('orange', 25), ('mango', 100)]\n",
      "reverse sorting a list of tuples based on index 1 of each tuple i.e. price\n",
      "[('mango', 100), ('banana', 60), ('apple', 30), ('orange', 25)]\n"
     ]
    }
   ],
   "source": [
    "# sort(key): sort a list of tuples using a paticular index, alternative method\n",
    "from operator import itemgetter, attrgetter\n",
    "\n",
    "\n",
    "fruit_prices = [('apple', 30),('banana', 60), ('orange', 25), ('mango', 100)]\n",
    "print(fruit_prices)\n",
    "print(\"reverse sorting a list of tuples based on index 1 of each tuple i.e. price\")\n",
    "fruit_prices.sort(key=lambda x: x[1], reverse=True)\n",
    "print(fruit_prices)"
   ]
  },
  {
   "cell_type": "code",
   "execution_count": 122,
   "id": "094ad516",
   "metadata": {},
   "outputs": [
    {
     "name": "stdout",
     "output_type": "stream",
     "text": [
      "[('Fred', 100, 14), ('Mary', 74, 14), ('Jane', 74, 13), ('Wilfred', 98, 13)]\n",
      "sorting list of complex objects based on age\n",
      "[('Jane', 74, 13), ('Wilfred', 98, 13), ('Fred', 100, 14), ('Mary', 74, 14)]\n",
      "sorting list of complex objects based on grade\n",
      "[('Mary', 74, 14), ('Jane', 74, 13), ('Wilfred', 98, 13), ('Fred', 100, 14)]\n",
      "reverse sorting list of complex objects based on grade\n",
      "[('Fred', 100, 14), ('Wilfred', 98, 13), ('Mary', 74, 14), ('Jane', 74, 13)]\n",
      "sorting list of complex objects based on grade, using lambda\n",
      "[('Mary', 74, 14), ('Jane', 74, 13), ('Wilfred', 98, 13), ('Fred', 100, 14)]\n",
      "sorting list of complex objects based on two fields, age ascending and grade descending, using lambda\n",
      "[('Wilfred', 98, 13), ('Jane', 74, 13), ('Fred', 100, 14), ('Mary', 74, 14)]\n",
      "sorting list of complex objects based on two fields, grade ascending and age descending, using lambda\n",
      "[('Mary', 74, 14), ('Jane', 74, 13), ('Wilfred', 98, 13), ('Fred', 100, 14)]\n",
      "reverse sorting list of complex objects based on two fields, grade then age\n",
      "[('Jane', 74, 13), ('Mary', 74, 14), ('Wilfred', 98, 13), ('Fred', 100, 14)]\n"
     ]
    }
   ],
   "source": [
    "# sort(key): sort a list of complex objects based on an attribute\n",
    "\n",
    "class Student:    \n",
    "    def __init__(self, name, grade, age):\n",
    "        self.name = name\n",
    "        self.grade = grade\n",
    "        self.age = age\n",
    "    def __repr__(self):\n",
    "        return repr((self.name, self.grade, self.age))\n",
    "    \n",
    "# Set up initial list, reinitialised throughout prior to each sort\n",
    "students = [Student('Fred', 100, 14), Student('Mary', 74, 14), Student('Jane', 74, 13), Student('Wilfred', 98, 13)]\n",
    "print(students)\n",
    "\n",
    "# using getattr\n",
    "students = [Student('Fred', 100, 14), Student('Mary', 74, 14), Student('Jane', 74, 13), Student('Wilfred', 98, 13)]\n",
    "print(\"sorting list of complex objects based on age\")\n",
    "students.sort(key=attrgetter('age'))\n",
    "print(students)\n",
    "\n",
    "# using getattr\n",
    "students = [Student('Fred', 100, 14), Student('Mary', 74, 14), Student('Jane', 74, 13), Student('Wilfred', 98, 13)]\n",
    "print(\"sorting list of complex objects based on grade\")\n",
    "students.sort(key=attrgetter('grade'))\n",
    "print(students)\n",
    "\n",
    "# using getattr\n",
    "students = [Student('Fred', 100, 14), Student('Mary', 74, 14), Student('Jane', 74, 13), Student('Wilfred', 98, 13)]\n",
    "print(\"reverse sorting list of complex objects based on grade\")\n",
    "students.sort(key=attrgetter('grade'), reverse=True)\n",
    "print(students)\n",
    "\n",
    "# using lambda\n",
    "students = [Student('Fred', 100, 14), Student('Mary', 74, 14), Student('Jane', 74, 13), Student('Wilfred', 98, 13)]\n",
    "print(\"sorting list of complex objects based on grade, using lambda\")\n",
    "students.sort(key=lambda student: student.grade)\n",
    "print(students)\n",
    "\n",
    "# using lambda\n",
    "students = [Student('Fred', 100, 14), Student('Mary', 74, 14), Student('Jane', 74, 13), Student('Wilfred', 98, 13)]\n",
    "print(\"sorting list of complex objects based on two fields, age ascending and grade descending, using lambda\")\n",
    "students.sort(key=lambda student: (student.age, -student.grade))\n",
    "print(students)\n",
    "\n",
    "\n",
    "# using lambda\n",
    "students = [Student('Fred', 100, 14), Student('Mary', 74, 14), Student('Jane', 74, 13), Student('Wilfred', 98, 13)]\n",
    "print(\"sorting list of complex objects based on two fields, grade ascending and age descending, using lambda\")\n",
    "students.sort(key=lambda student: (student.grade, -student.age))\n",
    "print(students)\n",
    "\n",
    "# using getattr, multiple fields\n",
    "students = [Student('Fred', 100, 14), Student('Mary', 74, 14), Student('Jane', 74, 13), Student('Wilfred', 98, 13)]\n",
    "print(\"reverse sorting list of complex objects based on two fields, grade then age\")\n",
    "students.sort(key=attrgetter('grade', 'age'))\n",
    "print(students)"
   ]
  },
  {
   "cell_type": "code",
   "execution_count": null,
   "id": "dba6343d",
   "metadata": {},
   "outputs": [],
   "source": []
  }
 ],
 "metadata": {
  "kernelspec": {
   "display_name": "Python 3",
   "language": "python",
   "name": "python3"
  },
  "language_info": {
   "codemirror_mode": {
    "name": "ipython",
    "version": 3
   },
   "file_extension": ".py",
   "mimetype": "text/x-python",
   "name": "python",
   "nbconvert_exporter": "python",
   "pygments_lexer": "ipython3",
   "version": "3.9.4"
  }
 },
 "nbformat": 4,
 "nbformat_minor": 5
}
