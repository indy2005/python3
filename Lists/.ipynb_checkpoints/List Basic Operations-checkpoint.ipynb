{
 "cells": [
  {
   "cell_type": "markdown",
   "metadata": {},
   "source": [
    "# Python Lists - Basic Properties and Methods"
   ]
  },
  {
   "cell_type": "markdown",
   "metadata": {},
   "source": [
    "   ## List initialisation"
   ]
  },
  {
   "cell_type": "code",
   "execution_count": 36,
   "metadata": {},
   "outputs": [
    {
     "name": "stdout",
     "output_type": "stream",
     "text": [
      "['apple', 'banana', 'mango', 'orange', 'grape']\n"
     ]
    }
   ],
   "source": [
    "# Initialising a list\n",
    "fruit = ['apple','banana','mango','orange','grape']\n",
    "print(fruit)"
   ]
  },
  {
   "cell_type": "markdown",
   "metadata": {},
   "source": [
    "## Length of a list"
   ]
  },
  {
   "cell_type": "code",
   "execution_count": 37,
   "metadata": {},
   "outputs": [
    {
     "name": "stdout",
     "output_type": "stream",
     "text": [
      "Length of fruit list is 5\n"
     ]
    }
   ],
   "source": [
    "# len(x): length of list x\n",
    "print(\"Length of fruit list is {0}\".format(len(fruit)))"
   ]
  },
  {
   "cell_type": "markdown",
   "metadata": {},
   "source": [
    "## Append to a list"
   ]
  },
  {
   "cell_type": "code",
   "execution_count": 38,
   "metadata": {},
   "outputs": [
    {
     "name": "stdout",
     "output_type": "stream",
     "text": [
      "['apple', 'banana', 'mango', 'orange', 'grape', 'watermelon']\n",
      "Length of fruit list is 6\n"
     ]
    }
   ],
   "source": [
    "# append(x): appending and item to the end of a list\n",
    "fruit.append('watermelon')\n",
    "\n",
    "print(fruit)\n",
    "print(\"Length of fruit list is {0}\".format(len(fruit)))"
   ]
  },
  {
   "cell_type": "markdown",
   "metadata": {},
   "source": [
    "## Removal from a list"
   ]
  },
  {
   "cell_type": "code",
   "execution_count": null,
   "metadata": {},
   "outputs": [],
   "source": [
    "# remove(x): removing an item from a list, removes first occurence from list\n",
    "\n",
    "try:\n",
    "    fruit.remove('mango')\n",
    "except ValueError as e:\n",
    "    print(\"Error: \", e)\n",
    "finally:\n",
    "    print(fruit)\n",
    "    print(\"Length of fruit list is {0}\".format(len(fruit)))"
   ]
  },
  {
   "cell_type": "markdown",
   "metadata": {},
   "source": [
    "### Removal of all items from a list"
   ]
  },
  {
   "cell_type": "code",
   "execution_count": 43,
   "metadata": {},
   "outputs": [
    {
     "name": "stdout",
     "output_type": "stream",
     "text": [
      "Before: Length of fruit list is 6\n",
      "['apple', 'banana', 'mango', 'orange', 'grape', 'mango']\n",
      "Items to remove: True\n",
      "After: Length of fruit list is 4\n",
      "['apple', 'banana', 'orange', 'grape']\n"
     ]
    }
   ],
   "source": [
    "# remove(x): remove all occurences of an item from a list\n",
    "fruit = ['apple','banana','mango','orange','grape','mango']\n",
    "\n",
    "print(\"Before: Length of fruit list is {0}\".format(len(fruit)))\n",
    "print(fruit)\n",
    "\n",
    "item_to_remove = 'mango'\n",
    "items_remaining = item_to_remove in fruit\n",
    "print(f\"Items to remove: {items_remaining}\")\n",
    "\n",
    "\n",
    "if items_remaining:\n",
    "    while items_remaining:\n",
    "        fruit.remove(item_to_remove)\n",
    "        items_remaining = item_to_remove in fruit\n",
    "\n",
    "print(\"After: Length of fruit list is {0}\".format(len(fruit)))\n",
    "print(fruit)"
   ]
  },
  {
   "cell_type": "markdown",
   "metadata": {},
   "source": [
    "## Counting occurences in a list"
   ]
  },
  {
   "cell_type": "code",
   "execution_count": 42,
   "metadata": {},
   "outputs": [
    {
     "name": "stdout",
     "output_type": "stream",
     "text": [
      "['apple', 'banana', 'mango', 'orange', 'grape', 'mango']\n",
      "mango is in the list 2 times\n"
     ]
    }
   ],
   "source": [
    "# count(x) : count all occurences of a value, x, in a list\n",
    "fruit = ['apple','banana','mango','orange','grape','mango']\n",
    "\n",
    "item_to_find = 'mango'\n",
    "print(f\"{item_to_find} is in the list {fruit.count(item_to_find)} times\")"
   ]
  },
  {
   "cell_type": "code",
   "execution_count": 48,
   "metadata": {},
   "outputs": [
    {
     "name": "stdout",
     "output_type": "stream",
     "text": [
      "Before: Length of fruit list is 6\n",
      "['apple', 'banana', 'mango', 'orange', 'grape', 'mango']\n",
      "Number of items found in list: 2\n",
      "--iteration 0\n",
      "--iteration 1\n",
      "After: Length of fruit list is 4\n",
      "['apple', 'banana', 'orange', 'grape']\n"
     ]
    }
   ],
   "source": [
    "# Using count(x) and remove(x) as an alternative to remove all items from a list\n",
    "fruit = ['apple','banana','mango','orange','grape','mango']\n",
    "\n",
    "print(\"Before: Length of fruit list is {0}\".format(len(fruit)))\n",
    "print(fruit)\n",
    "\n",
    "item_to_remove = 'mango'\n",
    "item_count = fruit.count(item_to_remove)\n",
    "print(f\"Number of items found in list: {item_count}\")\n",
    "\n",
    "\n",
    "for i in range(0, item_count):\n",
    "    print(f\"--iteration {i}\")\n",
    "    fruit.remove(item_to_remove)\n",
    "\n",
    "print(\"After: Length of fruit list is {0}\".format(len(fruit)))\n",
    "print(fruit)"
   ]
  },
  {
   "cell_type": "markdown",
   "metadata": {},
   "source": [
    "## Inserting an item into a specific position in a list"
   ]
  },
  {
   "cell_type": "code",
   "execution_count": 53,
   "metadata": {},
   "outputs": [
    {
     "name": "stdout",
     "output_type": "stream",
     "text": [
      "['volkswagen', 'ford', 'vauxhall', 'bmw', 'mercedes', 'skoda']\n",
      "['volkswagen', 'ford', 'vauxhall', 'bmw', 'mercedes', 'skoda', 'bentley']\n"
     ]
    }
   ],
   "source": [
    "# insert(i,x): insert an item at index i\n",
    "cars = ['ford','vauxhall','bmw','mercedes','skoda']\n",
    "\n",
    "cars.insert(0,'volkswagen') # place at the front of the list\n",
    "print(cars)\n",
    "\n",
    "cars.insert(len(cars),'bentley') # place at the end of the list, same as append(x)\n",
    "print(cars)"
   ]
  },
  {
   "cell_type": "markdown",
   "metadata": {},
   "source": [
    "## Popping an item off the end of a list"
   ]
  },
  {
   "cell_type": "code",
   "execution_count": 58,
   "metadata": {},
   "outputs": [
    {
     "name": "stdout",
     "output_type": "stream",
     "text": [
      "['ford', 'vauxhall', 'bmw', 'mercedes', 'skoda']\n",
      "Popped car is skoda\n",
      "['ford', 'vauxhall', 'bmw', 'mercedes']\n"
     ]
    }
   ],
   "source": [
    "# pop(): returns the last item in the list, while removing it from the list\n",
    "# append() and pop() operations are equivalent to a Last In First Out queue, or stack\n",
    "# i.e. the first item appended, is the very last item to be popped\n",
    "cars = ['ford','vauxhall','bmw','mercedes','skoda']\n",
    "print(cars)\n",
    "car = cars.pop() # pop off the last item in the list\n",
    "print(f\"Popped car is {car}\")\n",
    "print(cars)\n"
   ]
  },
  {
   "cell_type": "code",
   "execution_count": 61,
   "metadata": {},
   "outputs": [
    {
     "name": "stdout",
     "output_type": "stream",
     "text": [
      "['ford', 'vauxhall', 'bmw', 'mercedes', 'skoda']\n",
      "Popped car is bmw\n",
      "['ford', 'vauxhall', 'mercedes', 'skoda']\n"
     ]
    }
   ],
   "source": [
    "# pop(i): removes the ith item from the list and returns it\n",
    "cars = ['ford','vauxhall','bmw','mercedes','skoda']\n",
    "print(cars)\n",
    "\n",
    "car = cars.pop(2) # pop off the item at index 2, i.e. bmw\n",
    "\n",
    "print(f\"Popped car is {car}\")\n",
    "print(cars)\n"
   ]
  },
  {
   "cell_type": "markdown",
   "metadata": {},
   "source": [
    "## Reversing a list in-place"
   ]
  },
  {
   "cell_type": "code",
   "execution_count": 66,
   "metadata": {},
   "outputs": [
    {
     "name": "stdout",
     "output_type": "stream",
     "text": [
      "['ford', 'vauxhall', 'bmw', 'mercedes', 'skoda']\n",
      "['skoda', 'mercedes', 'bmw', 'vauxhall', 'ford']\n"
     ]
    }
   ],
   "source": [
    "# reverse() reverses the list in place.  Alternative is to use list[::-1] to return a reversed list\n",
    "cars = ['ford','vauxhall','bmw','mercedes','skoda']\n",
    "print(cars)\n",
    "cars.reverse()\n",
    "print(cars)"
   ]
  },
  {
   "cell_type": "markdown",
   "metadata": {},
   "source": [
    "## Clearing a list"
   ]
  },
  {
   "cell_type": "code",
   "execution_count": 64,
   "metadata": {},
   "outputs": [
    {
     "name": "stdout",
     "output_type": "stream",
     "text": [
      "['ford', 'vauxhall', 'bmw', 'mercedes', 'skoda']\n",
      "[]\n"
     ]
    }
   ],
   "source": [
    "# clear(): clear a list\n",
    "cars = ['ford','vauxhall','bmw','mercedes','skoda']\n",
    "print(cars)\n",
    "\n",
    "cars.clear()\n",
    "\n",
    "print(cars)\n"
   ]
  },
  {
   "cell_type": "markdown",
   "metadata": {},
   "source": [
    "## Locating the first index of an item in a list"
   ]
  },
  {
   "cell_type": "code",
   "execution_count": 75,
   "metadata": {},
   "outputs": [
    {
     "name": "stdout",
     "output_type": "stream",
     "text": [
      "['apple', 'banana', 'mango', 'orange', 'grape', 'mango', 'watermelon', 'mango']\n",
      "mango is first found at 2\n",
      "mango is first found at 5\n",
      "mango is first found at 7\n"
     ]
    }
   ],
   "source": [
    "# index(x, start (optional), end(optional)): returns the zero based index of the first occurence of x\n",
    "fruit = ['apple','banana','mango','orange','grape','mango','watermelon','mango']\n",
    "print(fruit)\n",
    "index = fruit.index('mango')\n",
    "print(f\"mango is first found at {index}\")\n",
    "\n",
    "# use try catch to do things properly\n",
    "try:\n",
    "    index = fruit.index('mango', 3,6) # 3,6 is used to slice, and so index 6 is not inclusive\n",
    "    print(f\"mango is first found at {index}\")\n",
    "except ValueError as e:\n",
    "    print(\"Error: \", e)\n",
    "\n",
    "# use try catch to do things properly\n",
    "try:\n",
    "    index = fruit.index('mango', 6) # end is not provided, so searches from index 3 to the end\n",
    "    print(f\"mango is first found at {index}\")\n",
    "except ValueError as e:\n",
    "    print(\"Error: \", e)"
   ]
  },
  {
   "cell_type": "markdown",
   "metadata": {},
   "source": [
    "## Sorting a List"
   ]
  },
  {
   "cell_type": "code",
   "execution_count": 76,
   "metadata": {},
   "outputs": [
    {
     "name": "stdout",
     "output_type": "stream",
     "text": [
      "['apple', 'banana', 'mango', 'orange', 'grape', 'mango', 'watermelon', 'mango']\n",
      "['apple', 'banana', 'grape', 'mango', 'mango', 'mango', 'orange', 'watermelon']\n"
     ]
    }
   ],
   "source": [
    "# sort(): sort a list in place in ascending order\n",
    "fruit = ['apple','banana','mango','orange','grape','mango','watermelon','mango']\n",
    "print(fruit)\n",
    "fruit.sort()\n",
    "print(fruit)"
   ]
  },
  {
   "cell_type": "code",
   "execution_count": 77,
   "metadata": {},
   "outputs": [
    {
     "name": "stdout",
     "output_type": "stream",
     "text": [
      "['apple', 'banana', 'mango', 'orange', 'grape', 'mango', 'watermelon', 'mango']\n",
      "['watermelon', 'orange', 'mango', 'mango', 'mango', 'grape', 'banana', 'apple']\n"
     ]
    }
   ],
   "source": [
    "# sort(reverse): sort a list in place in descending order\n",
    "fruit = ['apple','banana','mango','orange','grape','mango','watermelon','mango']\n",
    "print(fruit)\n",
    "fruit.sort(reverse=True)\n",
    "print(fruit)"
   ]
  },
  {
   "cell_type": "markdown",
   "metadata": {},
   "source": [
    "### Sorting using a specific key"
   ]
  },
  {
   "cell_type": "code",
   "execution_count": 98,
   "metadata": {},
   "outputs": [
    {
     "name": "stdout",
     "output_type": "stream",
     "text": [
      "['apple', 'banana', 'mango', 'orange', 'grape', 'mango', 'watermelon', 'mango']\n",
      "sorted by length\n",
      "['apple', 'mango', 'grape', 'mango', 'mango', 'banana', 'orange', 'watermelon']\n",
      "sorted by last character\n",
      "['banana', 'apple', 'grape', 'orange', 'watermelon', 'mango', 'mango', 'mango']\n"
     ]
    }
   ],
   "source": [
    "# sort(key): sort using a specific key\n",
    "fruit = ['apple','banana','mango','orange','grape','mango','watermelon','mango']\n",
    "print(fruit)\n",
    "\n",
    "# sort by the length\n",
    "print(\"sorted by length\")\n",
    "fruit.sort(key=len)\n",
    "print(fruit)\n",
    "\n",
    "# sort by the last character using a lambda\n",
    "print(\"sorted by last character\")\n",
    "fruit.sort(key=lambda x: x[len(x)-1])\n",
    "print(fruit)\n"
   ]
  },
  {
   "cell_type": "markdown",
   "metadata": {},
   "source": [
    "### Sorting a list of tuples using a particular index"
   ]
  },
  {
   "cell_type": "markdown",
   "metadata": {},
   "source": [
    "#### Example using getattr()"
   ]
  },
  {
   "cell_type": "code",
   "execution_count": 5,
   "metadata": {},
   "outputs": [
    {
     "name": "stdout",
     "output_type": "stream",
     "text": [
      "[('apple', 30), ('banana', 60), ('orange', 25), ('mango', 100)]\n",
      "sorting a list of tuples based on index 1 of each tuple i.e. price\n",
      "[('orange', 25), ('apple', 30), ('banana', 60), ('mango', 100)]\n"
     ]
    }
   ],
   "source": [
    "# sort(key): sort a list of tuples using a paticular index\n",
    "from operator import itemgetter\n",
    "\n",
    "fruit_prices = [('apple', 30),('banana', 60), ('orange', 25), ('mango', 100)]\n",
    "print(fruit_prices)\n",
    "print(\"sorting a list of tuples based on index 1 of each tuple i.e. price\")\n",
    "fruit_prices.sort(key=itemgetter(1))\n",
    "print(fruit_prices)"
   ]
  },
  {
   "cell_type": "markdown",
   "metadata": {},
   "source": [
    "#### Example using lambda expression"
   ]
  },
  {
   "cell_type": "code",
   "execution_count": 12,
   "metadata": {},
   "outputs": [
    {
     "name": "stdout",
     "output_type": "stream",
     "text": [
      "[('apple', 30), ('banana', 60), ('orange', 25), ('mango', 100)]\n",
      "reverse sorting a list of tuples based on index 1 of each tuple i.e. price\n",
      "[('mango', 100), ('banana', 60), ('apple', 30), ('orange', 25)]\n"
     ]
    }
   ],
   "source": [
    "# sort(key): sort a list of tuples using a paticular index, alternative method\n",
    "\n",
    "fruit_prices = [('apple', 30),('banana', 60), ('orange', 25), ('mango', 100)]\n",
    "print(fruit_prices)\n",
    "print(\"reverse sorting a list of tuples based on index 1 of each tuple i.e. price\")\n",
    "fruit_prices.sort(key=lambda x: x[1], reverse=True)\n",
    "print(fruit_prices)"
   ]
  },
  {
   "cell_type": "markdown",
   "metadata": {},
   "source": [
    "### Sorting a list of complex objects based on a property"
   ]
  },
  {
   "cell_type": "markdown",
   "metadata": {},
   "source": [
    "#### Examples using lambda expressions and getattr()"
   ]
  },
  {
   "cell_type": "code",
   "execution_count": 10,
   "metadata": {},
   "outputs": [
    {
     "name": "stdout",
     "output_type": "stream",
     "text": [
      "[('Fred', 100, 14), ('Mary', 74, 14), ('Jane', 74, 13), ('Wilfred', 98, 13)]\n",
      "sorting list of complex objects based on age\n",
      "[('Jane', 74, 13), ('Wilfred', 98, 13), ('Fred', 100, 14), ('Mary', 74, 14)]\n",
      "sorting list of complex objects based on grade\n",
      "[('Mary', 74, 14), ('Jane', 74, 13), ('Wilfred', 98, 13), ('Fred', 100, 14)]\n",
      "reverse sorting list of complex objects based on grade\n",
      "[('Fred', 100, 14), ('Wilfred', 98, 13), ('Mary', 74, 14), ('Jane', 74, 13)]\n",
      "sorting list of complex objects based on grade, using lambda\n",
      "[('Mary', 74, 14), ('Jane', 74, 13), ('Wilfred', 98, 13), ('Fred', 100, 14)]\n",
      "sorting list of complex objects based on two fields, age ascending and grade descending, using lambda\n",
      "[('Wilfred', 98, 13), ('Jane', 74, 13), ('Fred', 100, 14), ('Mary', 74, 14)]\n",
      "sorting list of complex objects based on two fields, grade ascending and age descending, using lambda\n",
      "[('Mary', 74, 14), ('Jane', 74, 13), ('Wilfred', 98, 13), ('Fred', 100, 14)]\n"
     ]
    }
   ],
   "source": [
    "# sort(key): sort a list of complex objects based on an attribute\n",
    "from operator import attrgetter\n",
    "\n",
    "class Student:    \n",
    "    def __init__(self, name, grade, age):\n",
    "        self.name = name\n",
    "        self.grade = grade\n",
    "        self.age = age\n",
    "    def __repr__(self):\n",
    "        return repr((self.name, self.grade, self.age))\n",
    "    \n",
    "# Set up initial list, reinitialised throughout prior to each sort\n",
    "students = [Student('Fred', 100, 14), Student('Mary', 74, 14), Student('Jane', 74, 13), Student('Wilfred', 98, 13)]\n",
    "print(students)\n",
    "\n",
    "# using getattr\n",
    "students = [Student('Fred', 100, 14), Student('Mary', 74, 14), Student('Jane', 74, 13), Student('Wilfred', 98, 13)]\n",
    "print(\"sorting list of complex objects based on age\")\n",
    "students.sort(key=attrgetter('age'))\n",
    "print(students)\n",
    "\n",
    "# using getattr\n",
    "students = [Student('Fred', 100, 14), Student('Mary', 74, 14), Student('Jane', 74, 13), Student('Wilfred', 98, 13)]\n",
    "print(\"sorting list of complex objects based on grade\")\n",
    "students.sort(key=attrgetter('grade'))\n",
    "print(students)\n",
    "\n",
    "# using getattr\n",
    "students = [Student('Fred', 100, 14), Student('Mary', 74, 14), Student('Jane', 74, 13), Student('Wilfred', 98, 13)]\n",
    "print(\"reverse sorting list of complex objects based on grade\")\n",
    "students.sort(key=attrgetter('grade'), reverse=True)\n",
    "print(students)\n",
    "\n",
    "# using lambda\n",
    "students = [Student('Fred', 100, 14), Student('Mary', 74, 14), Student('Jane', 74, 13), Student('Wilfred', 98, 13)]\n",
    "print(\"sorting list of complex objects based on grade, using lambda\")\n",
    "students.sort(key=lambda student: student.grade)\n",
    "print(students)\n",
    "\n",
    "# using lambda\n",
    "students = [Student('Fred', 100, 14), Student('Mary', 74, 14), Student('Jane', 74, 13), Student('Wilfred', 98, 13)]\n",
    "print(\"sorting list of complex objects based on two fields, age ascending and grade descending, using lambda\")\n",
    "students.sort(key=lambda student: (student.age, -student.grade))\n",
    "print(students)\n",
    "\n",
    "\n",
    "# using lambda\n",
    "students = [Student('Fred', 100, 14), Student('Mary', 74, 14), Student('Jane', 74, 13), Student('Wilfred', 98, 13)]\n",
    "print(\"sorting list of complex objects based on two fields, grade ascending and age descending, using lambda\")\n",
    "students.sort(key=lambda student: (student.grade, -student.age))\n",
    "print(students)\n"
   ]
  },
  {
   "cell_type": "markdown",
   "metadata": {},
   "source": [
    "#### Sorting a list of complex objects using a multi-level sort"
   ]
  },
  {
   "cell_type": "code",
   "execution_count": 11,
   "metadata": {},
   "outputs": [
    {
     "name": "stdout",
     "output_type": "stream",
     "text": [
      "reverse sorting list of complex objects based on two fields, grade then age\n",
      "[('Jane', 74, 13), ('Mary', 74, 14), ('Wilfred', 98, 13), ('Fred', 100, 14)]\n"
     ]
    }
   ],
   "source": [
    "from operator import attrgetter\n",
    "\n",
    "# using getattr, multiple fields\n",
    "students = [Student('Fred', 100, 14), Student('Mary', 74, 14), Student('Jane', 74, 13), Student('Wilfred', 98, 13)]\n",
    "print(\"reverse sorting list of complex objects based on two fields, grade then age\")\n",
    "students.sort(key=attrgetter('grade', 'age'))\n",
    "print(students)"
   ]
  },
  {
   "cell_type": "markdown",
   "metadata": {},
   "source": [
    "## List Slicing"
   ]
  },
  {
   "cell_type": "code",
   "execution_count": 39,
   "metadata": {},
   "outputs": [
    {
     "name": "stdout",
     "output_type": "stream",
     "text": [
      "[0, 1, 2, 3, 4, 5, 6, 7, 8, 9]\n"
     ]
    }
   ],
   "source": [
    "prices = [0,1,2,3,4,5,6,7,8,9]\n",
    "print(prices)"
   ]
  },
  {
   "cell_type": "code",
   "execution_count": 40,
   "metadata": {},
   "outputs": [
    {
     "name": "stdout",
     "output_type": "stream",
     "text": [
      "[0, 1, 2, 3, 4]\n",
      "[0, 1, 2, 3, 4]\n"
     ]
    }
   ],
   "source": [
    "# Slice first 5 items from list (exclusing of index 5 when slicing)\n",
    "first_five_prices = prices[0:5]  \n",
    "print(first_five_prices)\n",
    "\n",
    "# Same as prices[:5]\n",
    "print(prices[:5])"
   ]
  },
  {
   "cell_type": "code",
   "execution_count": 41,
   "metadata": {},
   "outputs": [
    {
     "name": "stdout",
     "output_type": "stream",
     "text": [
      "[5, 6, 7, 8, 9]\n"
     ]
    }
   ],
   "source": [
    "# Slice the last 5 prices\n",
    "last_five_prices = prices[-5:]  \n",
    "print(last_five_prices)"
   ]
  },
  {
   "cell_type": "code",
   "execution_count": 42,
   "metadata": {},
   "outputs": [
    {
     "name": "stdout",
     "output_type": "stream",
     "text": [
      "[2, 3, 4, 5, 6]\n"
     ]
    }
   ],
   "source": [
    "# Slice from index 2 to index 6 inclusive\n",
    "middle_prices = prices[2:7]  \n",
    "print(middle_prices)"
   ]
  },
  {
   "cell_type": "code",
   "execution_count": 44,
   "metadata": {},
   "outputs": [
    {
     "data": {
      "text/plain": [
       "[5, 6, 7, 8, 9]"
      ]
     },
     "execution_count": 44,
     "metadata": {},
     "output_type": "execute_result"
    }
   ],
   "source": [
    "# slice from index 5 to the last element, inclusive\n",
    "prices[5:]"
   ]
  },
  {
   "cell_type": "code",
   "execution_count": 54,
   "metadata": {},
   "outputs": [
    {
     "data": {
      "text/plain": [
       "[5, 6, 7, 8]"
      ]
     },
     "execution_count": 54,
     "metadata": {},
     "output_type": "execute_result"
    }
   ],
   "source": [
    "# slice from index 5 to the second to last element\n",
    "prices[5:-1]"
   ]
  },
  {
   "cell_type": "code",
   "execution_count": 55,
   "metadata": {},
   "outputs": [
    {
     "data": {
      "text/plain": [
       "[6, 7, 8, 9]"
      ]
     },
     "execution_count": 55,
     "metadata": {},
     "output_type": "execute_result"
    }
   ],
   "source": [
    "# slice last 4 items from the list\n",
    "prices[-4:]"
   ]
  },
  {
   "cell_type": "code",
   "execution_count": 56,
   "metadata": {},
   "outputs": [
    {
     "name": "stdout",
     "output_type": "stream",
     "text": [
      "[9, 8, 7, 6, 5, 4, 3, 2, 1, 0]\n",
      "[0, 1, 2, 3, 4, 5, 6, 7, 8, 9]\n"
     ]
    }
   ],
   "source": [
    "# Reverse a list - unlike reverse() which reverse list in place\n",
    "reversed_prices = prices[::-1]  \n",
    "print(reversed_prices)\n",
    "print(prices)  # not impacted"
   ]
  },
  {
   "cell_type": "markdown",
   "metadata": {},
   "source": [
    "## Adding lists together using +"
   ]
  },
  {
   "cell_type": "code",
   "execution_count": 62,
   "metadata": {},
   "outputs": [
    {
     "name": "stdout",
     "output_type": "stream",
     "text": [
      "[1, 2, 3, 4]\n",
      "[5, 6, 7, 8]\n",
      "[1, 2, 3, 4, 5, 6, 7, 8]\n"
     ]
    }
   ],
   "source": [
    "# same as extend() method\n",
    "list1 = [1,2,3,4]\n",
    "list2 = [5,6,7,8]\n",
    "list3 = list1 + list2\n",
    "print(list1)\n",
    "print(list2)\n",
    "print(list3)"
   ]
  },
  {
   "cell_type": "markdown",
   "metadata": {},
   "source": [
    "## Detecting common items in 2 lists"
   ]
  },
  {
   "cell_type": "code",
   "execution_count": 65,
   "metadata": {},
   "outputs": [
    {
     "name": "stdout",
     "output_type": "stream",
     "text": [
      "[3, 4]\n"
     ]
    }
   ],
   "source": [
    "# use a list comprehension and 'in' syntax\n",
    "list1 = [1,2,3,4]\n",
    "list2 = [3,4,5,6,7,8]\n",
    "list3 = [x for x in list1 if x in list2]\n",
    "print(list3)"
   ]
  },
  {
   "cell_type": "markdown",
   "metadata": {},
   "source": [
    "## Using a list as a queue"
   ]
  },
  {
   "cell_type": "code",
   "execution_count": 72,
   "metadata": {},
   "outputs": [
    {
     "name": "stdout",
     "output_type": "stream",
     "text": [
      "[1, 1, 2, 3, 4, 5, 6, 7]\n",
      "processing 1\n",
      "[1, 2, 3, 4, 5, 6, 7]\n",
      "processing 1\n",
      "[2, 3, 4, 5, 6, 7]\n"
     ]
    }
   ],
   "source": [
    "# A queue is FIFO(first in first out)\n",
    "queue = [1,1,2,3,4,5]\n",
    "queue.append(6)\n",
    "queue.append(7)\n",
    "print(queue)\n",
    "\n",
    "item_to_process = queue[0]\n",
    "queue.remove(item_to_process) # removes first occurence\n",
    "print(f\"processing {item_to_process}\")\n",
    "print(queue)\n",
    "\n",
    "item_to_process = queue[0]\n",
    "queue.remove(item_to_process) # removes first occurence\n",
    "print(f\"processing {item_to_process}\")\n",
    "print(queue)"
   ]
  },
  {
   "cell_type": "code",
   "execution_count": 73,
   "metadata": {},
   "outputs": [
    {
     "name": "stdout",
     "output_type": "stream",
     "text": [
      "[(1, 1), (1, 1), (2, 1), (3, 2), (4, 4), (5, 5), 6, 7]\n",
      "processing (1, 1)\n",
      "[(1, 1), (2, 1), (3, 2), (4, 4), (5, 5), 6, 7]\n",
      "processing (1, 1)\n",
      "[(2, 1), (3, 2), (4, 4), (5, 5), 6, 7]\n"
     ]
    }
   ],
   "source": [
    "# A queue is FIFO(first in first out)\n",
    "queue = [(1,1),(1,1),(2,1),(3,2),(4,4),(5,5)]\n",
    "queue.append(6)\n",
    "queue.append(7)\n",
    "print(queue)\n",
    "\n",
    "item_to_process = queue[0]\n",
    "queue.remove(item_to_process) # removes first occurence\n",
    "print(f\"processing {item_to_process}\")\n",
    "print(queue)\n",
    "\n",
    "item_to_process = queue[0]\n",
    "queue.remove(item_to_process) # removes first occurence\n",
    "print(f\"processing {item_to_process}\")\n",
    "print(queue)"
   ]
  },
  {
   "cell_type": "code",
   "execution_count": 74,
   "metadata": {},
   "outputs": [
    {
     "name": "stdout",
     "output_type": "stream",
     "text": [
      "[1, 1, 2, 3, 4, 5, 6, 7]\n",
      "processing 1\n",
      "[1, 2, 3, 4, 5, 6, 7]\n",
      "processing 1\n",
      "[2, 3, 4, 5, 6, 7]\n"
     ]
    }
   ],
   "source": [
    "# alternative using list slicing\n",
    "# A queue is FIFO(first in first out)\n",
    "queue = [1,1,2,3,4,5]\n",
    "queue.append(6)\n",
    "queue.append(7)\n",
    "print(queue)\n",
    "\n",
    "item_to_process = queue[0]\n",
    "queue = queue[1:]\n",
    "print(f\"processing {item_to_process}\")\n",
    "print(queue)\n",
    "\n",
    "item_to_process = queue[0]\n",
    "queue = queue[1:]\n",
    "print(f\"processing {item_to_process}\")\n",
    "print(queue)"
   ]
  },
  {
   "cell_type": "code",
   "execution_count": 77,
   "metadata": {},
   "outputs": [
    {
     "name": "stdout",
     "output_type": "stream",
     "text": [
      "[1, 1, 2, 3, 4, 5, 6, 7]\n",
      "processing 1\n",
      "[1, 2, 3, 4, 5, 6, 7]\n",
      "processing 1\n",
      "[2, 3, 4, 5, 6, 7]\n",
      "processing 2\n",
      "[3, 4, 5, 6, 7]\n"
     ]
    }
   ],
   "source": [
    "# alternative using pop()\n",
    "# A queue is FIFO(first in first out)\n",
    "queue = [1,1,2,3,4,5]\n",
    "queue.append(6)\n",
    "queue.append(7)\n",
    "print(queue)\n",
    "\n",
    "item_to_process = queue.pop(0)\n",
    "print(f\"processing {item_to_process}\")\n",
    "print(queue)\n",
    "\n",
    "item_to_process = queue.pop(0)\n",
    "print(f\"processing {item_to_process}\")\n",
    "print(queue)\n",
    "\n",
    "item_to_process = queue.pop(0)\n",
    "print(f\"processing {item_to_process}\")\n",
    "print(queue)"
   ]
  },
  {
   "cell_type": "markdown",
   "metadata": {},
   "source": [
    "### Using collections.deque() for efficiency"
   ]
  },
  {
   "cell_type": "code",
   "execution_count": 83,
   "metadata": {},
   "outputs": [
    {
     "name": "stdout",
     "output_type": "stream",
     "text": [
      "deque(['Eric', 'John', 'Michael', 'Terry', 'Graham'])\n",
      "deque(['John', 'Michael', 'Terry', 'Graham'])\n",
      "deque(['Michael', 'Terry', 'Graham'])\n",
      "Michael\n"
     ]
    }
   ],
   "source": [
    "# Previous methods such as \"pop\" are not very efficient, and collections.dequeue() is designed for efficient appends\n",
    "# and pops from both ends\n",
    "from collections import deque\n",
    "queue = deque([\"Eric\", \"John\", \"Michael\"])\n",
    "queue.append(\"Terry\")           # Terry arrives\n",
    "queue.append(\"Graham\")          # Graham arrives\n",
    "print(queue)\n",
    "queue.popleft()                 # The first to arrive now leaves\n",
    "print(queue)\n",
    "queue.popleft()                 # The second to arrive now leaves\n",
    "print(queue)\n",
    "item = queue.popleft()\n",
    "print(item)"
   ]
  },
  {
   "cell_type": "markdown",
   "metadata": {},
   "source": [
    "## Applying a function to every list item using map()"
   ]
  },
  {
   "cell_type": "code",
   "execution_count": 89,
   "metadata": {},
   "outputs": [
    {
     "name": "stdout",
     "output_type": "stream",
     "text": [
      "['peter', 'mary', 'jane', 'fred']\n",
      "['Peter', 'Mary', 'Jane', 'Fred']\n"
     ]
    }
   ],
   "source": [
    "# We apply title case to every item in a list\n",
    "staff = ['peter','mary','jane','fred']\n",
    "staff2 = list(map(lambda x: x.title(), staff))\n",
    "print(staff)\n",
    "print(staff2)"
   ]
  },
  {
   "cell_type": "code",
   "execution_count": 90,
   "metadata": {},
   "outputs": [
    {
     "name": "stdout",
     "output_type": "stream",
     "text": [
      "['peter', 'mary', 'jane', 'fred']\n",
      "['Peter', 'Mary', 'Jane', 'Fred']\n"
     ]
    }
   ],
   "source": [
    "# we could also use a list comprehension\n",
    "staff = ['peter','mary','jane','fred']\n",
    "staff2 = [x.title() for x in staff]\n",
    "print(staff)\n",
    "print(staff2)"
   ]
  },
  {
   "cell_type": "markdown",
   "metadata": {},
   "source": [
    "## Apply a filter to a list using filter()"
   ]
  },
  {
   "cell_type": "code",
   "execution_count": 95,
   "metadata": {},
   "outputs": [
    {
     "name": "stdout",
     "output_type": "stream",
     "text": [
      "['peter', 'mary', 'jane', 'fred', 'stephen', 'mark']\n",
      "['peter', 'jane']\n"
     ]
    }
   ],
   "source": [
    "# use filter() to return items beginning with p or j\n",
    "staff = ['peter','mary','jane','fred','stephen','mark']\n",
    "staff2 = list(filter(lambda x: x[0] in ['p','j'], staff))\n",
    "print(staff)\n",
    "print(staff2)"
   ]
  },
  {
   "cell_type": "code",
   "execution_count": 96,
   "metadata": {},
   "outputs": [
    {
     "name": "stdout",
     "output_type": "stream",
     "text": [
      "['peter', 'mary', 'jane', 'fred', 'stephen', 'mark']\n",
      "['peter', 'jane']\n"
     ]
    }
   ],
   "source": [
    "# could also use a list comprehension\n",
    "staff = ['peter','mary','jane','fred','stephen','mark']\n",
    "staff2 = [x for x in staff if x[0] in ['p','j']]\n",
    "print(staff)\n",
    "print(staff2)"
   ]
  },
  {
   "cell_type": "markdown",
   "metadata": {},
   "source": [
    "## Merging lists using zip()"
   ]
  },
  {
   "cell_type": "code",
   "execution_count": 109,
   "metadata": {},
   "outputs": [
    {
     "name": "stdout",
     "output_type": "stream",
     "text": [
      "name\t\t: ['Manjeet', 'Nikhil', 'Shambhavi', 'Astha']\n",
      "roll_no\t\t: [4, 1, 3, 2]\n",
      "marks\t\t: [40, 50, 60, 70]\n",
      "The zipped result is : [('Manjeet', 4, 40), ('Nikhil', 1, 50), ('Shambhavi', 3, 60), ('Astha', 2, 70)]\n",
      "The converted result is : [['Manjeet', 4, 40], ['Nikhil', 1, 50], ['Shambhavi', 3, 60], ['Astha', 2, 70]]\n"
     ]
    }
   ],
   "source": [
    "# Python code to demonstrate the working of\n",
    "# zip()\n",
    "\n",
    "# zip takes multiple lists, and combines the values index wise, into an iterator of tuples\n",
    "\n",
    "# initializing lists\n",
    "name = [ \"Manjeet\", \"Nikhil\", \"Shambhavi\", \"Astha\" ]\n",
    "roll_no = [ 4, 1, 3, 2 ]\n",
    "marks = [ 40, 50, 60, 70 ]\n",
    "print(f\"name\\t\\t: {name}\")\n",
    "print(f\"roll_no\\t\\t: {roll_no}\")\n",
    "print(f\"marks\\t\\t: {marks}\")\n",
    "\n",
    "# using zip() to map values\n",
    "mapped = zip(name, roll_no, marks)\n",
    "\n",
    "# converting values to print as set\n",
    "mapped = list(mapped)\n",
    "\n",
    "# printing resultant values\n",
    "print (f\"The zipped result is : {mapped}\")\n",
    "\n",
    "# To convert this into a list of lists we could use a list comprehension\n",
    "mapped_list = [list(x) for x in mapped]\n",
    "print (f\"The converted result is : {mapped_list}\")"
   ]
  },
  {
   "cell_type": "markdown",
   "metadata": {},
   "source": [
    "## List iteration"
   ]
  },
  {
   "cell_type": "markdown",
   "metadata": {},
   "source": [
    "### Simple for loop iteration"
   ]
  },
  {
   "cell_type": "code",
   "execution_count": 110,
   "metadata": {},
   "outputs": [
    {
     "name": "stdout",
     "output_type": "stream",
     "text": [
      "1\n",
      "2\n",
      "3\n",
      "4\n",
      "5\n",
      "6\n",
      "7\n",
      "8\n",
      "9\n",
      "10\n"
     ]
    }
   ],
   "source": [
    "# simple iteration with for loop\n",
    "numbers = [1,2,3,4,5,6,7,8,9,10]\n",
    "\n",
    "for number in numbers:\n",
    "    print(number)"
   ]
  },
  {
   "cell_type": "markdown",
   "metadata": {},
   "source": [
    "### Using for loop with enumerate() to receive the index within the for loop"
   ]
  },
  {
   "cell_type": "code",
   "execution_count": 111,
   "metadata": {},
   "outputs": [
    {
     "name": "stdout",
     "output_type": "stream",
     "text": [
      "Item at index 0 is 1\n",
      "Item at index 1 is 2\n",
      "Item at index 2 is 3\n",
      "Item at index 3 is 4\n",
      "Item at index 4 is 5\n",
      "Item at index 5 is 6\n",
      "Item at index 6 is 7\n",
      "Item at index 7 is 8\n",
      "Item at index 8 is 9\n",
      "Item at index 9 is 10\n"
     ]
    }
   ],
   "source": [
    "# iteration with enumerate() to get the index\n",
    "numbers = [1,2,3,4,5,6,7,8,9,10]\n",
    "\n",
    "for index, number in enumerate(numbers):\n",
    "    print(f\"Item at index {index} is {number}\")"
   ]
  },
  {
   "cell_type": "markdown",
   "metadata": {},
   "source": [
    "### Using range() to iterate over a list"
   ]
  },
  {
   "cell_type": "code",
   "execution_count": 115,
   "metadata": {},
   "outputs": [
    {
     "name": "stdout",
     "output_type": "stream",
     "text": [
      "Item at index 0 is 1\n",
      "Item at index 1 is 2\n",
      "Item at index 2 is 3\n",
      "Item at index 3 is 4\n",
      "Item at index 4 is 5\n",
      "Item at index 5 is 6\n",
      "Item at index 6 is 7\n",
      "Item at index 7 is 8\n",
      "Item at index 8 is 9\n",
      "Item at index 9 is 10\n"
     ]
    }
   ],
   "source": [
    "# note that range() excludes the end item, but when we use len(list) we always get the entire list due to zero based indexing\n",
    "numbers = [1,2,3,4,5,6,7,8,9,10]\n",
    "\n",
    "for i in range(0,len(numbers)):\n",
    "     print(f\"Item at index {i} is {numbers[i]}\")\n",
    "    "
   ]
  },
  {
   "cell_type": "code",
   "execution_count": null,
   "metadata": {},
   "outputs": [],
   "source": []
  }
 ],
 "metadata": {
  "kernelspec": {
   "display_name": "Python 3",
   "language": "python",
   "name": "python3"
  },
  "language_info": {
   "codemirror_mode": {
    "name": "ipython",
    "version": 3
   },
   "file_extension": ".py",
   "mimetype": "text/x-python",
   "name": "python",
   "nbconvert_exporter": "python",
   "pygments_lexer": "ipython3",
   "version": "3.7.4"
  }
 },
 "nbformat": 4,
 "nbformat_minor": 5
}
