{
 "cells": [
  {
   "cell_type": "markdown",
   "metadata": {},
   "source": [
    "# Dictonary Basics"
   ]
  },
  {
   "cell_type": "markdown",
   "metadata": {},
   "source": [
    "## Declaring Dictionaries"
   ]
  },
  {
   "cell_type": "code",
   "execution_count": 5,
   "metadata": {},
   "outputs": [
    {
     "name": "stdout",
     "output_type": "stream",
     "text": [
      "{'A': 'Product A', 'B': 'Product B', 'C': 'Product C', 'D': 'Product B'}\n"
     ]
    }
   ],
   "source": [
    "# dictionaries are key + value pairs, i.e. hash maps\n",
    "# declaring method 1\n",
    "dict1 = {\n",
    "    'A' : 'Product A',\n",
    "    'B' : 'Product B',\n",
    "    'C' : 'Product C',\n",
    "    'D' : 'Product B',\n",
    "    \n",
    "}\n",
    "print(dict1)"
   ]
  },
  {
   "cell_type": "code",
   "execution_count": 6,
   "metadata": {},
   "outputs": [
    {
     "name": "stdout",
     "output_type": "stream",
     "text": [
      "{'A': 'Product A', 'B': 'Product B', 'C': 'Product C', 'D': 'Product D'}\n"
     ]
    }
   ],
   "source": [
    "# declaring method 2 using dict()\n",
    "# (a) using a list of tuples\n",
    "dict2 = dict([\n",
    "    ('A', 'Product A'),\n",
    "    ('B', 'Product B'),\n",
    "    ('C', 'Product C'),\n",
    "    ('D', 'Product D'),    \n",
    "])\n",
    "print(dict2)"
   ]
  },
  {
   "cell_type": "code",
   "execution_count": 9,
   "metadata": {},
   "outputs": [
    {
     "name": "stdout",
     "output_type": "stream",
     "text": [
      "{'A': 'Product A', 'B': 'Product B', 'C': 'Product C', 'D': 'Product D'}\n"
     ]
    }
   ],
   "source": [
    "# declaring method 2 using dict()\n",
    "# (b) using named arguments with dict()\n",
    "dict3 = dict(\n",
    "    A = 'Product A',\n",
    "    B = 'Product B',\n",
    "    C = 'Product C',\n",
    "    D = 'Product D' \n",
    ")\n",
    "print(dict3)"
   ]
  },
  {
   "cell_type": "markdown",
   "metadata": {},
   "source": [
    "### Declaring an empty dictionary"
   ]
  },
  {
   "cell_type": "code",
   "execution_count": 35,
   "metadata": {},
   "outputs": [
    {
     "name": "stdout",
     "output_type": "stream",
     "text": [
      "{'category': 'Fruit', 'price': 1.99, 'type': 'Apple'}\n"
     ]
    }
   ],
   "source": [
    "dict4 = {}\n",
    "dict4['category'] = 'Fruit'\n",
    "dict4['price'] = 1.99\n",
    "dict4['type'] = 'Apple'\n",
    "print(dict4)"
   ]
  },
  {
   "cell_type": "markdown",
   "metadata": {},
   "source": [
    "### Declaring lists as values of dictionaries"
   ]
  },
  {
   "cell_type": "code",
   "execution_count": 36,
   "metadata": {},
   "outputs": [
    {
     "name": "stdout",
     "output_type": "stream",
     "text": [
      "{'name': 'Fred', 'age': 51, 'children': ['Jack', 'Katie', 'Mary']}\n"
     ]
    }
   ],
   "source": [
    "dict5 = {}\n",
    "dict5['name'] = 'Fred'\n",
    "dict5['age'] = 51\n",
    "dict5['children'] = ['Jack','Katie','Mary']\n",
    "print(dict5)"
   ]
  },
  {
   "cell_type": "code",
   "execution_count": 37,
   "metadata": {},
   "outputs": [
    {
     "name": "stdout",
     "output_type": "stream",
     "text": [
      "Jack\n"
     ]
    }
   ],
   "source": [
    "child1 = dict5['children'][0]\n",
    "print(child1)"
   ]
  },
  {
   "cell_type": "markdown",
   "metadata": {},
   "source": [
    "### Keys must be immutable, so lists and dictionaries cannot be keys, but tuples can"
   ]
  },
  {
   "cell_type": "code",
   "execution_count": 46,
   "metadata": {},
   "outputs": [],
   "source": [
    "dict6 = {}\n",
    "dict6[(0,1)] = 'Fred'\n",
    "dict6[(0,2)] = 'Mary'\n",
    "dict6[(0,3)] = 'Mary'"
   ]
  },
  {
   "cell_type": "code",
   "execution_count": 47,
   "metadata": {},
   "outputs": [
    {
     "name": "stdout",
     "output_type": "stream",
     "text": [
      "unhashable type: 'list'\n"
     ]
    }
   ],
   "source": [
    "# unhashable type error because lists are not immutable\n",
    "dict7 = {}\n",
    "try:\n",
    "    dict7[[0,1]] = 'Fred'\n",
    "except TypeError as e:\n",
    "    print(e) "
   ]
  },
  {
   "cell_type": "code",
   "execution_count": 54,
   "metadata": {},
   "outputs": [
    {
     "name": "stdout",
     "output_type": "stream",
     "text": [
      "1267305975155491464\n",
      "99\n",
      "4680359118658541886\n",
      "unhashable type: 'list'\n"
     ]
    }
   ],
   "source": [
    "# specifically an object must be hashable, as dictionaries use the hash() function to hash an object into a key value\n",
    "hash1 = hash((0,1,2))\n",
    "print(hash1)\n",
    "hash2 = hash(99)\n",
    "print(hash2)\n",
    "hash3 = hash('Stephen')\n",
    "print(hash3)\n",
    "\n",
    "# unhashable type error because lists are not hashable\n",
    "\n",
    "try:\n",
    "    hash4 = hash([0,1,2])    \n",
    "except TypeError as e:\n",
    "    print(e) \n"
   ]
  },
  {
   "cell_type": "markdown",
   "metadata": {},
   "source": [
    "## Retrieving items from a dictionary"
   ]
  },
  {
   "cell_type": "code",
   "execution_count": 13,
   "metadata": {},
   "outputs": [
    {
     "name": "stdout",
     "output_type": "stream",
     "text": [
      "Product B\n"
     ]
    }
   ],
   "source": [
    "b = dict1['B']\n",
    "print(b)"
   ]
  },
  {
   "cell_type": "markdown",
   "metadata": {},
   "source": [
    "### Using get() to retrieve an item from a dictionary without receiving an exception "
   ]
  },
  {
   "cell_type": "code",
   "execution_count": 63,
   "metadata": {},
   "outputs": [
    {
     "name": "stdout",
     "output_type": "stream",
     "text": [
      "None\n"
     ]
    }
   ],
   "source": [
    "# Default returns None, if the key does not exist\n",
    "e = dict1.get('E')\n",
    "print(e)"
   ]
  },
  {
   "cell_type": "code",
   "execution_count": 64,
   "metadata": {},
   "outputs": [
    {
     "name": "stdout",
     "output_type": "stream",
     "text": [
      "-xxx-\n"
     ]
    }
   ],
   "source": [
    "# Default can be changed\n",
    "e = dict1.get('E', '-xxx-')\n",
    "print(e)"
   ]
  },
  {
   "cell_type": "markdown",
   "metadata": {},
   "source": [
    "## Checking if a key is present in a dictionary"
   ]
  },
  {
   "cell_type": "code",
   "execution_count": 17,
   "metadata": {},
   "outputs": [
    {
     "name": "stdout",
     "output_type": "stream",
     "text": [
      "E is not in a valid key in Dict\n"
     ]
    }
   ],
   "source": [
    "if 'E' in dict1:\n",
    "    e = dict1['E']\n",
    "else:\n",
    "    print(\"E is not in a valid key in Dict\")"
   ]
  },
  {
   "cell_type": "code",
   "execution_count": 21,
   "metadata": {},
   "outputs": [
    {
     "name": "stdout",
     "output_type": "stream",
     "text": [
      "Invalid Key....\n"
     ]
    }
   ],
   "source": [
    "try:\n",
    "    e = dict1['E']\n",
    "except KeyError as e:\n",
    "    print(\"Invalid Key....\")"
   ]
  },
  {
   "cell_type": "markdown",
   "metadata": {},
   "source": [
    "## Assigning a new key to a dictionary"
   ]
  },
  {
   "cell_type": "code",
   "execution_count": 30,
   "metadata": {},
   "outputs": [],
   "source": [
    "dict1['E'] = 'Product E'"
   ]
  },
  {
   "cell_type": "code",
   "execution_count": 24,
   "metadata": {},
   "outputs": [
    {
     "name": "stdout",
     "output_type": "stream",
     "text": [
      "{'A': 'Product A', 'B': 'Product B', 'C': 'Product C', 'D': 'Product B', 'E': 'Product E'}\n"
     ]
    }
   ],
   "source": [
    "print(dict1)"
   ]
  },
  {
   "cell_type": "code",
   "execution_count": 25,
   "metadata": {},
   "outputs": [
    {
     "name": "stdout",
     "output_type": "stream",
     "text": [
      "{'A': 'Product A', 'B': 'Product B', 'C': 'Product C', 'D': 'Product B', 'E': 'Product E'}\n",
      "{'A': 'Product A', 'B': 'Product B', 'C': 'Product C', 'D': 'Product B', 'E': 'Product E (new)'}\n"
     ]
    }
   ],
   "source": [
    "# If the key already exists it will overwrite the value\n",
    "print(dict1)\n",
    "dict1['E'] = 'Product E (new)'\n",
    "print(dict1)"
   ]
  },
  {
   "cell_type": "markdown",
   "metadata": {},
   "source": [
    "## Deleting an item from a dictionary using del"
   ]
  },
  {
   "cell_type": "code",
   "execution_count": 31,
   "metadata": {},
   "outputs": [
    {
     "name": "stdout",
     "output_type": "stream",
     "text": [
      "{'A': 'Product A', 'B': 'Product B', 'C': 'Product C', 'D': 'Product B', 'E': 'Product E'}\n"
     ]
    }
   ],
   "source": [
    "print(dict1)"
   ]
  },
  {
   "cell_type": "code",
   "execution_count": 32,
   "metadata": {},
   "outputs": [
    {
     "name": "stdout",
     "output_type": "stream",
     "text": [
      "{'A': 'Product A', 'B': 'Product B', 'C': 'Product C', 'D': 'Product B'}\n"
     ]
    }
   ],
   "source": [
    "del dict1['E']\n",
    "print(dict1)"
   ]
  },
  {
   "cell_type": "markdown",
   "metadata": {},
   "source": [
    "## Length of a dictionary"
   ]
  },
  {
   "cell_type": "code",
   "execution_count": 57,
   "metadata": {},
   "outputs": [
    {
     "name": "stdout",
     "output_type": "stream",
     "text": [
      "{'A': 'Product A', 'B': 'Product B', 'C': 'Product C', 'D': 'Product B'}\n",
      "4\n"
     ]
    }
   ],
   "source": [
    "# return the number of key: value pairs\n",
    "print(dict1)\n",
    "print(len(dict1))"
   ]
  },
  {
   "cell_type": "markdown",
   "metadata": {},
   "source": [
    "## Clearing a dictionary"
   ]
  },
  {
   "cell_type": "code",
   "execution_count": 58,
   "metadata": {},
   "outputs": [
    {
     "name": "stdout",
     "output_type": "stream",
     "text": [
      "{'A': 'Product A', 'B': 'Product B', 'C': 'Product C', 'D': 'Product B'}\n",
      "{}\n"
     ]
    }
   ],
   "source": [
    "print(dict1)\n",
    "dict1.clear()\n",
    "print(dict1)"
   ]
  },
  {
   "cell_type": "markdown",
   "metadata": {},
   "source": [
    "## Retrieving a list of key value pairs"
   ]
  },
  {
   "cell_type": "code",
   "execution_count": 68,
   "metadata": {},
   "outputs": [
    {
     "name": "stdout",
     "output_type": "stream",
     "text": [
      "dict_items([('A', 'Product A'), ('B', 'Product B'), ('C', 'Product C'), ('D', 'Product B')])\n",
      "Key  A  Value  Product A\n",
      "Key  B  Value  Product B\n",
      "Key  C  Value  Product C\n",
      "Key  D  Value  Product B\n"
     ]
    }
   ],
   "source": [
    "dict1 = {\n",
    "    'A' : 'Product A',\n",
    "    'B' : 'Product B',\n",
    "    'C' : 'Product C',\n",
    "    'D' : 'Product B',\n",
    "    \n",
    "}\n",
    "print(dict1.items())\n",
    "\n",
    "for key, value in dict1.items():\n",
    "    print(\"Key \", key, \" Value \", value)"
   ]
  },
  {
   "cell_type": "markdown",
   "metadata": {},
   "source": [
    "## Retrieving keys from a dictionary"
   ]
  },
  {
   "cell_type": "code",
   "execution_count": 74,
   "metadata": {},
   "outputs": [
    {
     "name": "stdout",
     "output_type": "stream",
     "text": [
      "dict_keys(['A', 'B', 'C', 'D'])\n",
      "Key  A  Value  Product A\n",
      "Key  B  Value  Product B\n",
      "Key  C  Value  Product C\n",
      "Key  D  Value  Product B\n"
     ]
    }
   ],
   "source": [
    "dict1 = {\n",
    "    'A' : 'Product A',\n",
    "    'B' : 'Product B',\n",
    "    'C' : 'Product C',\n",
    "    'D' : 'Product B',\n",
    "    \n",
    "}\n",
    "print(dict1.keys())\n",
    "\n",
    "for key in dict1.keys():\n",
    "    print(\"Key \", key, \" Value \", dict1[key])"
   ]
  },
  {
   "cell_type": "markdown",
   "metadata": {},
   "source": [
    "## Retrieving items from a dictionary"
   ]
  },
  {
   "cell_type": "code",
   "execution_count": 75,
   "metadata": {},
   "outputs": [
    {
     "name": "stdout",
     "output_type": "stream",
     "text": [
      "dict_values(['Product A', 'Product B', 'Product C', 'Product B'])\n",
      " Value  Product A\n",
      " Value  Product B\n",
      " Value  Product C\n",
      " Value  Product B\n"
     ]
    }
   ],
   "source": [
    "dict1 = {\n",
    "    'A' : 'Product A',\n",
    "    'B' : 'Product B',\n",
    "    'C' : 'Product C',\n",
    "    'D' : 'Product B',\n",
    "    \n",
    "}\n",
    "print(dict1.values())\n",
    "\n",
    "for item in dict1.values():\n",
    "    print(\" Value \", item)"
   ]
  },
  {
   "cell_type": "markdown",
   "metadata": {},
   "source": [
    "## Remove and return an item from a dictionary using pop()"
   ]
  },
  {
   "cell_type": "code",
   "execution_count": 77,
   "metadata": {},
   "outputs": [
    {
     "name": "stdout",
     "output_type": "stream",
     "text": [
      "{'A': 'Product A', 'B': 'Product B', 'C': 'Product C', 'D': 'Product B'}\n",
      "Product A\n",
      "{'B': 'Product B', 'C': 'Product C', 'D': 'Product B'}\n",
      "Product C\n",
      "{'B': 'Product B', 'D': 'Product B'}\n"
     ]
    }
   ],
   "source": [
    "# pop() returns and removes the appropriate key from the dictionary and returns the value\n",
    "dict1 = {\n",
    "    'A' : 'Product A',\n",
    "    'B' : 'Product B',\n",
    "    'C' : 'Product C',\n",
    "    'D' : 'Product B',\n",
    "    \n",
    "}\n",
    "print(dict1)\n",
    "item1 = dict1.pop('A')\n",
    "print(item1)\n",
    "print(dict1)\n",
    "item2 = dict1.pop('C')\n",
    "print(item2)\n",
    "print(dict1)\n",
    "\n"
   ]
  },
  {
   "cell_type": "code",
   "execution_count": 78,
   "metadata": {},
   "outputs": [
    {
     "name": "stdout",
     "output_type": "stream",
     "text": [
      "{'A': 'Product A', 'B': 'Product B', 'C': 'Product C', 'D': 'Product B'}\n",
      "Product A\n",
      "{'B': 'Product B', 'C': 'Product C', 'D': 'Product B'}\n",
      "No Such Value\n",
      "{'B': 'Product B', 'C': 'Product C', 'D': 'Product B'}\n"
     ]
    }
   ],
   "source": [
    "# pop() can use a default argument, to avoid an exception being raised\n",
    "# if the key is not present, the default argument is returned\n",
    "\n",
    "dict1 = {\n",
    "    'A' : 'Product A',\n",
    "    'B' : 'Product B',\n",
    "    'C' : 'Product C',\n",
    "    'D' : 'Product B',\n",
    "    \n",
    "}\n",
    "print(dict1)\n",
    "item1 = dict1.pop('A')\n",
    "print(item1)\n",
    "print(dict1)\n",
    "item2 = dict1.pop('E', 'No Such Value')\n",
    "print(item2)\n",
    "print(dict1)\n",
    "\n"
   ]
  },
  {
   "cell_type": "markdown",
   "metadata": {},
   "source": [
    "### popitem() returns the key and value, of the last added items in the dict, as a tuple pair"
   ]
  },
  {
   "cell_type": "code",
   "execution_count": 82,
   "metadata": {},
   "outputs": [
    {
     "name": "stdout",
     "output_type": "stream",
     "text": [
      "{'A': 'Product A', 'B': 'Product B', 'C': 'Product C', 'D': 'Product B'}\n",
      "('D', 'Product B')\n",
      "{'A': 'Product A', 'B': 'Product B', 'C': 'Product C'}\n",
      "('C', 'Product C')\n",
      "{'A': 'Product A', 'B': 'Product B'}\n"
     ]
    }
   ],
   "source": [
    "# popitem() returns the last added item from the dictionary as a tuple pair, and removes the key\n",
    "dict1 = {\n",
    "    'A' : 'Product A',\n",
    "    'B' : 'Product B',\n",
    "    'C' : 'Product C',\n",
    "    'D' : 'Product B',\n",
    "    \n",
    "}\n",
    "\n",
    "print(dict1)\n",
    "item1 = dict1.popitem()\n",
    "print(item1)\n",
    "print(dict1)\n",
    "item2 = dict1.popitem()\n",
    "print(item2)\n",
    "print(dict1)\n",
    "\n"
   ]
  },
  {
   "cell_type": "markdown",
   "metadata": {},
   "source": [
    "## Merging dictionaries"
   ]
  },
  {
   "cell_type": "code",
   "execution_count": 88,
   "metadata": {},
   "outputs": [
    {
     "name": "stdout",
     "output_type": "stream",
     "text": [
      "{'A': 'Product A', 'B': 'Product B', 'C': 'Product C', 'D': 'Product B'}\n",
      "{'E': 'Product E', 'F': 'Product F', 'G': 'Product G', 'H': 'Product H'}\n",
      "{'A': 'Product A', 'B': 'Product B', 'C': 'Product C', 'D': 'Product B', 'E': 'Product E', 'F': 'Product F', 'G': 'Product G', 'H': 'Product H'}\n"
     ]
    }
   ],
   "source": [
    "dict1 = {\n",
    "    'A' : 'Product A',\n",
    "    'B' : 'Product B',\n",
    "    'C' : 'Product C',\n",
    "    'D' : 'Product B',\n",
    "    \n",
    "}\n",
    "print(dict1)\n",
    "\n",
    "\n",
    "dict2 = {\n",
    "    'E' : 'Product E',\n",
    "    'F' : 'Product F',\n",
    "    'G' : 'Product G',\n",
    "    'H' : 'Product H',\n",
    "    \n",
    "}\n",
    "print(dict2)\n",
    "\n",
    "dict1.update(dict2)\n",
    "print(dict1)"
   ]
  },
  {
   "cell_type": "code",
   "execution_count": 89,
   "metadata": {},
   "outputs": [
    {
     "name": "stdout",
     "output_type": "stream",
     "text": [
      "{'A': 'Product A', 'B': 'Product B', 'C': 'Product C', 'D': 'Product B'}\n",
      "{'A': 'Product A (New)', 'E': 'Product E', 'F': 'Product F', 'G': 'Product G', 'H': 'Product H'}\n",
      "{'A': 'Product A (New)', 'B': 'Product B', 'C': 'Product C', 'D': 'Product B', 'E': 'Product E', 'F': 'Product F', 'G': 'Product G', 'H': 'Product H'}\n"
     ]
    }
   ],
   "source": [
    "# If the key already exists in a dictionary, the value is updated\n",
    "dict1 = {\n",
    "    'A' : 'Product A',\n",
    "    'B' : 'Product B',\n",
    "    'C' : 'Product C',\n",
    "    'D' : 'Product B',\n",
    "    \n",
    "}\n",
    "print(dict1)\n",
    "\n",
    "\n",
    "dict2 = {\n",
    "    'A' : 'Product A (New)',\n",
    "    'E' : 'Product E',\n",
    "    'F' : 'Product F',\n",
    "    'G' : 'Product G',\n",
    "    'H' : 'Product H',\n",
    "    \n",
    "}\n",
    "print(dict2)\n",
    "\n",
    "dict1.update(dict2)\n",
    "print(dict1)"
   ]
  },
  {
   "cell_type": "code",
   "execution_count": 90,
   "metadata": {},
   "outputs": [
    {
     "name": "stdout",
     "output_type": "stream",
     "text": [
      "{'A': 'Product A', 'B': 'Product B', 'C': 'Product C', 'D': 'Product B'}\n",
      "[('E', 'Product E'), ('F', 'Product F'), ('G', 'Product G'), ('H', 'Product H')]\n",
      "{'A': 'Product A', 'B': 'Product B', 'C': 'Product C', 'D': 'Product B', 'E': 'Product E', 'F': 'Product F', 'G': 'Product G', 'H': 'Product H'}\n"
     ]
    }
   ],
   "source": [
    "# The update can be between a dictionary and a set of key value pairs\n",
    "# If the key already exists in a dictionary, the value is updated\n",
    "dict1 = {\n",
    "    'A' : 'Product A',\n",
    "    'B' : 'Product B',\n",
    "    'C' : 'Product C',\n",
    "    'D' : 'Product B',\n",
    "    \n",
    "}\n",
    "print(dict1)\n",
    "\n",
    "\n",
    "dict2 = [\n",
    "   \n",
    "    ('E','Product E'),\n",
    "    ('F','Product F'),\n",
    "    ('G','Product G'),\n",
    "    ('H','Product H'),\n",
    "    \n",
    "]\n",
    "print(dict2)\n",
    "\n",
    "dict1.update(dict2)\n",
    "print(dict1)"
   ]
  },
  {
   "cell_type": "markdown",
   "metadata": {},
   "source": [
    "## Using zip to create dictionaries from multiple lists"
   ]
  },
  {
   "cell_type": "code",
   "execution_count": 91,
   "metadata": {},
   "outputs": [],
   "source": [
    "keys = [1,2,3,4,5,6]\n",
    "values = ['BMW','Ford','Mercedes','Ferrari','Vauxhall','Skoda']"
   ]
  },
  {
   "cell_type": "code",
   "execution_count": 92,
   "metadata": {},
   "outputs": [
    {
     "name": "stdout",
     "output_type": "stream",
     "text": [
      "[(1, 'BMW'), (2, 'Ford'), (3, 'Mercedes'), (4, 'Ferrari'), (5, 'Vauxhall'), (6, 'Skoda')]\n"
     ]
    }
   ],
   "source": [
    "# zip can be used to create a list of tuples, which can then be used to create a dictionary \n",
    "print(list(zip(keys, values)))"
   ]
  },
  {
   "cell_type": "code",
   "execution_count": 93,
   "metadata": {},
   "outputs": [],
   "source": [
    "dict1 = dict(list(zip(keys, values)))"
   ]
  },
  {
   "cell_type": "code",
   "execution_count": 96,
   "metadata": {},
   "outputs": [
    {
     "name": "stdout",
     "output_type": "stream",
     "text": [
      "{1: 'BMW', 2: 'Ford', 3: 'Mercedes', 4: 'Ferrari', 5: 'Vauxhall', 6: 'Skoda'}\n",
      "Mercedes\n"
     ]
    }
   ],
   "source": [
    "print(dict1)\n",
    "print(dict1[3])"
   ]
  },
  {
   "cell_type": "code",
   "execution_count": null,
   "metadata": {},
   "outputs": [],
   "source": []
  }
 ],
 "metadata": {
  "kernelspec": {
   "display_name": "Python 3",
   "language": "python",
   "name": "python3"
  },
  "language_info": {
   "codemirror_mode": {
    "name": "ipython",
    "version": 3
   },
   "file_extension": ".py",
   "mimetype": "text/x-python",
   "name": "python",
   "nbconvert_exporter": "python",
   "pygments_lexer": "ipython3",
   "version": "3.7.4"
  }
 },
 "nbformat": 4,
 "nbformat_minor": 4
}
